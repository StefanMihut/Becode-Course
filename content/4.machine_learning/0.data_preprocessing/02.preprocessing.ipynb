{
 "cells": [
  {
   "cell_type": "markdown",
   "metadata": {},
   "source": [
    "# Data preprocessing using pandas and scikit-learn"
   ]
  },
  {
   "cell_type": "markdown",
   "metadata": {},
   "source": [
    "### Feature selection\n",
    "\n",
    "Data preprocessing is most always the step before training a machine learning model. There are features that are not very useful for predicting a given outcome. For example, including an `id` field which uniquely identifies each sample does not make much sense. \n",
    "Thus, such variables can be safely deleted.\n"
   ]
  },
  {
   "cell_type": "code",
   "execution_count": 9,
   "metadata": {},
   "outputs": [
    {
     "data": {
      "text/plain": [
       "Index(['X', 'Y', 'Unique Squirrel ID', 'Hectare', 'Shift', 'Date',\n",
       "       'Hectare Squirrel Number', 'Age', 'Primary Fur Color',\n",
       "       'Highlight Fur Color', 'Combination of Primary and Highlight Color',\n",
       "       'Color notes', 'Location', 'Above Ground Sighter Measurement',\n",
       "       'Specific Location', 'Running', 'Chasing', 'Climbing', 'Eating',\n",
       "       'Foraging', 'Other Activities', 'Kuks', 'Quaas', 'Moans', 'Tail flags',\n",
       "       'Tail twitches', 'Approaches', 'Indifferent', 'Runs from',\n",
       "       'Other Interactions', 'Lat/Long'],\n",
       "      dtype='object')"
      ]
     },
     "execution_count": 9,
     "metadata": {},
     "output_type": "execute_result"
    }
   ],
   "source": [
    "import pandas as pd\n",
    "from matplotlib import pyplot as plt\n",
    "filename=pd.read_csv(r\"C:\\Users\\dottz\\Desktop\\2018_Central_Park_Squirrel_Census_-_Squirrel_Data.csv\")\n",
    "df = filename\n",
    "#df = pd.read_csv(filename)\n",
    "df.columns"
   ]
  },
  {
   "cell_type": "markdown",
   "metadata": {},
   "source": [
    "Again, we'll ask you do to a bit of work yourself. This time, we ask you to drop unnecessary columns."
   ]
  },
  {
   "cell_type": "code",
   "execution_count": 13,
   "metadata": {},
   "outputs": [
    {
     "data": {
      "text/html": [
       "<div>\n",
       "<style scoped>\n",
       "    .dataframe tbody tr th:only-of-type {\n",
       "        vertical-align: middle;\n",
       "    }\n",
       "\n",
       "    .dataframe tbody tr th {\n",
       "        vertical-align: top;\n",
       "    }\n",
       "\n",
       "    .dataframe thead th {\n",
       "        text-align: right;\n",
       "    }\n",
       "</style>\n",
       "<table border=\"1\" class=\"dataframe\">\n",
       "  <thead>\n",
       "    <tr style=\"text-align: right;\">\n",
       "      <th></th>\n",
       "      <th>X</th>\n",
       "      <th>Y</th>\n",
       "      <th>Hectare</th>\n",
       "      <th>Shift</th>\n",
       "      <th>Date</th>\n",
       "      <th>Hectare Squirrel Number</th>\n",
       "      <th>Age</th>\n",
       "      <th>Primary Fur Color</th>\n",
       "      <th>Highlight Fur Color</th>\n",
       "      <th>Combination of Primary and Highlight Color</th>\n",
       "      <th>...</th>\n",
       "      <th>Kuks</th>\n",
       "      <th>Quaas</th>\n",
       "      <th>Moans</th>\n",
       "      <th>Tail flags</th>\n",
       "      <th>Tail twitches</th>\n",
       "      <th>Approaches</th>\n",
       "      <th>Indifferent</th>\n",
       "      <th>Runs from</th>\n",
       "      <th>Other Interactions</th>\n",
       "      <th>Lat/Long</th>\n",
       "    </tr>\n",
       "  </thead>\n",
       "  <tbody>\n",
       "    <tr>\n",
       "      <th>0</th>\n",
       "      <td>-73.956134</td>\n",
       "      <td>40.794082</td>\n",
       "      <td>37F</td>\n",
       "      <td>PM</td>\n",
       "      <td>10142018</td>\n",
       "      <td>3</td>\n",
       "      <td>NaN</td>\n",
       "      <td>NaN</td>\n",
       "      <td>NaN</td>\n",
       "      <td>+</td>\n",
       "      <td>...</td>\n",
       "      <td>False</td>\n",
       "      <td>False</td>\n",
       "      <td>False</td>\n",
       "      <td>False</td>\n",
       "      <td>False</td>\n",
       "      <td>False</td>\n",
       "      <td>False</td>\n",
       "      <td>False</td>\n",
       "      <td>NaN</td>\n",
       "      <td>POINT (-73.9561344937861 40.7940823884086)</td>\n",
       "    </tr>\n",
       "    <tr>\n",
       "      <th>1</th>\n",
       "      <td>-73.968857</td>\n",
       "      <td>40.783783</td>\n",
       "      <td>21B</td>\n",
       "      <td>AM</td>\n",
       "      <td>10192018</td>\n",
       "      <td>4</td>\n",
       "      <td>NaN</td>\n",
       "      <td>NaN</td>\n",
       "      <td>NaN</td>\n",
       "      <td>+</td>\n",
       "      <td>...</td>\n",
       "      <td>False</td>\n",
       "      <td>False</td>\n",
       "      <td>False</td>\n",
       "      <td>False</td>\n",
       "      <td>False</td>\n",
       "      <td>False</td>\n",
       "      <td>False</td>\n",
       "      <td>False</td>\n",
       "      <td>NaN</td>\n",
       "      <td>POINT (-73.9688574691102 40.7837825208444)</td>\n",
       "    </tr>\n",
       "    <tr>\n",
       "      <th>2</th>\n",
       "      <td>-73.974281</td>\n",
       "      <td>40.775534</td>\n",
       "      <td>11B</td>\n",
       "      <td>PM</td>\n",
       "      <td>10142018</td>\n",
       "      <td>8</td>\n",
       "      <td>NaN</td>\n",
       "      <td>Gray</td>\n",
       "      <td>NaN</td>\n",
       "      <td>Gray+</td>\n",
       "      <td>...</td>\n",
       "      <td>False</td>\n",
       "      <td>False</td>\n",
       "      <td>False</td>\n",
       "      <td>False</td>\n",
       "      <td>False</td>\n",
       "      <td>False</td>\n",
       "      <td>False</td>\n",
       "      <td>False</td>\n",
       "      <td>NaN</td>\n",
       "      <td>POINT (-73.97428114848522 40.775533619083)</td>\n",
       "    </tr>\n",
       "    <tr>\n",
       "      <th>3</th>\n",
       "      <td>-73.959641</td>\n",
       "      <td>40.790313</td>\n",
       "      <td>32E</td>\n",
       "      <td>PM</td>\n",
       "      <td>10172018</td>\n",
       "      <td>14</td>\n",
       "      <td>Adult</td>\n",
       "      <td>Gray</td>\n",
       "      <td>NaN</td>\n",
       "      <td>Gray+</td>\n",
       "      <td>...</td>\n",
       "      <td>False</td>\n",
       "      <td>False</td>\n",
       "      <td>False</td>\n",
       "      <td>False</td>\n",
       "      <td>False</td>\n",
       "      <td>False</td>\n",
       "      <td>False</td>\n",
       "      <td>True</td>\n",
       "      <td>NaN</td>\n",
       "      <td>POINT (-73.9596413903948 40.7903128889029)</td>\n",
       "    </tr>\n",
       "    <tr>\n",
       "      <th>4</th>\n",
       "      <td>-73.970268</td>\n",
       "      <td>40.776213</td>\n",
       "      <td>13E</td>\n",
       "      <td>AM</td>\n",
       "      <td>10172018</td>\n",
       "      <td>5</td>\n",
       "      <td>Adult</td>\n",
       "      <td>Gray</td>\n",
       "      <td>Cinnamon</td>\n",
       "      <td>Gray+Cinnamon</td>\n",
       "      <td>...</td>\n",
       "      <td>False</td>\n",
       "      <td>False</td>\n",
       "      <td>False</td>\n",
       "      <td>False</td>\n",
       "      <td>False</td>\n",
       "      <td>False</td>\n",
       "      <td>False</td>\n",
       "      <td>False</td>\n",
       "      <td>NaN</td>\n",
       "      <td>POINT (-73.9702676472613 40.7762126854894)</td>\n",
       "    </tr>\n",
       "  </tbody>\n",
       "</table>\n",
       "<p>5 rows × 30 columns</p>\n",
       "</div>"
      ],
      "text/plain": [
       "           X          Y Hectare Shift      Date  Hectare Squirrel Number  \\\n",
       "0 -73.956134  40.794082     37F    PM  10142018                        3   \n",
       "1 -73.968857  40.783783     21B    AM  10192018                        4   \n",
       "2 -73.974281  40.775534     11B    PM  10142018                        8   \n",
       "3 -73.959641  40.790313     32E    PM  10172018                       14   \n",
       "4 -73.970268  40.776213     13E    AM  10172018                        5   \n",
       "\n",
       "     Age Primary Fur Color Highlight Fur Color  \\\n",
       "0    NaN               NaN                 NaN   \n",
       "1    NaN               NaN                 NaN   \n",
       "2    NaN              Gray                 NaN   \n",
       "3  Adult              Gray                 NaN   \n",
       "4  Adult              Gray            Cinnamon   \n",
       "\n",
       "  Combination of Primary and Highlight Color  ...   Kuks  Quaas  Moans  \\\n",
       "0                                          +  ...  False  False  False   \n",
       "1                                          +  ...  False  False  False   \n",
       "2                                      Gray+  ...  False  False  False   \n",
       "3                                      Gray+  ...  False  False  False   \n",
       "4                              Gray+Cinnamon  ...  False  False  False   \n",
       "\n",
       "  Tail flags  Tail twitches  Approaches  Indifferent  Runs from  \\\n",
       "0      False          False       False        False      False   \n",
       "1      False          False       False        False      False   \n",
       "2      False          False       False        False      False   \n",
       "3      False          False       False        False       True   \n",
       "4      False          False       False        False      False   \n",
       "\n",
       "   Other Interactions                                    Lat/Long  \n",
       "0                 NaN  POINT (-73.9561344937861 40.7940823884086)  \n",
       "1                 NaN  POINT (-73.9688574691102 40.7837825208444)  \n",
       "2                 NaN  POINT (-73.97428114848522 40.775533619083)  \n",
       "3                 NaN  POINT (-73.9596413903948 40.7903128889029)  \n",
       "4                 NaN  POINT (-73.9702676472613 40.7762126854894)  \n",
       "\n",
       "[5 rows x 30 columns]"
      ]
     },
     "execution_count": 13,
     "metadata": {},
     "output_type": "execute_result"
    }
   ],
   "source": [
    "# Drop the `Unique Squirrel ID'` column\n",
    "#df.drop(columns=['Unique Squirrel ID'], inplace=True)\n",
    "df.head()"
   ]
  },
  {
   "cell_type": "markdown",
   "metadata": {},
   "source": [
    "### Feature slicing\n",
    "Feature slicing is the act of *slicing* a feature into multiple different features.\n",
    "For example, we can slice the `Date` into day, month, and year.\n"
   ]
  },
  {
   "cell_type": "code",
   "execution_count": 14,
   "metadata": {},
   "outputs": [
    {
     "data": {
      "text/plain": [
       "0    10142018\n",
       "1    10192018\n",
       "2    10142018\n",
       "3    10172018\n",
       "4    10172018\n",
       "Name: Date, dtype: int64"
      ]
     },
     "execution_count": 14,
     "metadata": {},
     "output_type": "execute_result"
    }
   ],
   "source": [
    "df['Date'].head()"
   ]
  },
  {
   "cell_type": "markdown",
   "metadata": {},
   "source": [
    "Hint: use the `Series.apply()` method with a lambda function. [[Help]](https://www.analyticsvidhya.com/blog/2020/03/what-are-lambda-functions-in-python/)\n"
   ]
  },
  {
   "cell_type": "code",
   "execution_count": 18,
   "metadata": {},
   "outputs": [
    {
     "ename": "KeyError",
     "evalue": "\"['day', 'month', 'year'] not in index\"",
     "output_type": "error",
     "traceback": [
      "\u001b[1;31m---------------------------------------------------------------------------\u001b[0m",
      "\u001b[1;31mKeyError\u001b[0m                                  Traceback (most recent call last)",
      "\u001b[1;32mc:\\Becode-Course\\content\\4.machine_learning\\0.data_preprocessing\\02.preprocessing.ipynb Cell 9'\u001b[0m in \u001b[0;36m<cell line: 4>\u001b[1;34m()\u001b[0m\n\u001b[0;32m      <a href='vscode-notebook-cell:/c%3A/Becode-Course/content/4.machine_learning/0.data_preprocessing/02.preprocessing.ipynb#ch0000008?line=0'>1</a>\u001b[0m \u001b[39m# Split the feature Date into day, month and year\u001b[39;00m\n\u001b[0;32m      <a href='vscode-notebook-cell:/c%3A/Becode-Course/content/4.machine_learning/0.data_preprocessing/02.preprocessing.ipynb#ch0000008?line=1'>2</a>\u001b[0m (df[\u001b[39m'\u001b[39m\u001b[39mDate\u001b[39m\u001b[39m'\u001b[39m], \u001b[39mlambda\u001b[39;00m x: x\u001b[39m.\u001b[39msplit(\u001b[39m'\u001b[39m\u001b[39m/\u001b[39m\u001b[39m'\u001b[39m))\n\u001b[1;32m----> <a href='vscode-notebook-cell:/c%3A/Becode-Course/content/4.machine_learning/0.data_preprocessing/02.preprocessing.ipynb#ch0000008?line=3'>4</a>\u001b[0m df[[\u001b[39m'\u001b[39;49m\u001b[39mDate\u001b[39;49m\u001b[39m'\u001b[39;49m, \u001b[39m'\u001b[39;49m\u001b[39mday\u001b[39;49m\u001b[39m'\u001b[39;49m, \u001b[39m'\u001b[39;49m\u001b[39mmonth\u001b[39;49m\u001b[39m'\u001b[39;49m, \u001b[39m'\u001b[39;49m\u001b[39myear\u001b[39;49m\u001b[39m'\u001b[39;49m]]\u001b[39m.\u001b[39mhead()\n",
      "File \u001b[1;32mc:\\Users\\dottz\\AppData\\Local\\Programs\\Python\\Python310\\lib\\site-packages\\pandas\\core\\frame.py:3511\u001b[0m, in \u001b[0;36mDataFrame.__getitem__\u001b[1;34m(self, key)\u001b[0m\n\u001b[0;32m   3509\u001b[0m     \u001b[39mif\u001b[39;00m is_iterator(key):\n\u001b[0;32m   3510\u001b[0m         key \u001b[39m=\u001b[39m \u001b[39mlist\u001b[39m(key)\n\u001b[1;32m-> 3511\u001b[0m     indexer \u001b[39m=\u001b[39m \u001b[39mself\u001b[39;49m\u001b[39m.\u001b[39;49mcolumns\u001b[39m.\u001b[39;49m_get_indexer_strict(key, \u001b[39m\"\u001b[39;49m\u001b[39mcolumns\u001b[39;49m\u001b[39m\"\u001b[39;49m)[\u001b[39m1\u001b[39m]\n\u001b[0;32m   3513\u001b[0m \u001b[39m# take() does not accept boolean indexers\u001b[39;00m\n\u001b[0;32m   3514\u001b[0m \u001b[39mif\u001b[39;00m \u001b[39mgetattr\u001b[39m(indexer, \u001b[39m\"\u001b[39m\u001b[39mdtype\u001b[39m\u001b[39m\"\u001b[39m, \u001b[39mNone\u001b[39;00m) \u001b[39m==\u001b[39m \u001b[39mbool\u001b[39m:\n",
      "File \u001b[1;32mc:\\Users\\dottz\\AppData\\Local\\Programs\\Python\\Python310\\lib\\site-packages\\pandas\\core\\indexes\\base.py:5782\u001b[0m, in \u001b[0;36mIndex._get_indexer_strict\u001b[1;34m(self, key, axis_name)\u001b[0m\n\u001b[0;32m   5779\u001b[0m \u001b[39melse\u001b[39;00m:\n\u001b[0;32m   5780\u001b[0m     keyarr, indexer, new_indexer \u001b[39m=\u001b[39m \u001b[39mself\u001b[39m\u001b[39m.\u001b[39m_reindex_non_unique(keyarr)\n\u001b[1;32m-> 5782\u001b[0m \u001b[39mself\u001b[39;49m\u001b[39m.\u001b[39;49m_raise_if_missing(keyarr, indexer, axis_name)\n\u001b[0;32m   5784\u001b[0m keyarr \u001b[39m=\u001b[39m \u001b[39mself\u001b[39m\u001b[39m.\u001b[39mtake(indexer)\n\u001b[0;32m   5785\u001b[0m \u001b[39mif\u001b[39;00m \u001b[39misinstance\u001b[39m(key, Index):\n\u001b[0;32m   5786\u001b[0m     \u001b[39m# GH 42790 - Preserve name from an Index\u001b[39;00m\n",
      "File \u001b[1;32mc:\\Users\\dottz\\AppData\\Local\\Programs\\Python\\Python310\\lib\\site-packages\\pandas\\core\\indexes\\base.py:5845\u001b[0m, in \u001b[0;36mIndex._raise_if_missing\u001b[1;34m(self, key, indexer, axis_name)\u001b[0m\n\u001b[0;32m   5842\u001b[0m     \u001b[39mraise\u001b[39;00m \u001b[39mKeyError\u001b[39;00m(\u001b[39mf\u001b[39m\u001b[39m\"\u001b[39m\u001b[39mNone of [\u001b[39m\u001b[39m{\u001b[39;00mkey\u001b[39m}\u001b[39;00m\u001b[39m] are in the [\u001b[39m\u001b[39m{\u001b[39;00maxis_name\u001b[39m}\u001b[39;00m\u001b[39m]\u001b[39m\u001b[39m\"\u001b[39m)\n\u001b[0;32m   5844\u001b[0m not_found \u001b[39m=\u001b[39m \u001b[39mlist\u001b[39m(ensure_index(key)[missing_mask\u001b[39m.\u001b[39mnonzero()[\u001b[39m0\u001b[39m]]\u001b[39m.\u001b[39munique())\n\u001b[1;32m-> 5845\u001b[0m \u001b[39mraise\u001b[39;00m \u001b[39mKeyError\u001b[39;00m(\u001b[39mf\u001b[39m\u001b[39m\"\u001b[39m\u001b[39m{\u001b[39;00mnot_found\u001b[39m}\u001b[39;00m\u001b[39m not in index\u001b[39m\u001b[39m\"\u001b[39m)\n",
      "\u001b[1;31mKeyError\u001b[0m: \"['day', 'month', 'year'] not in index\""
     ]
    }
   ],
   "source": [
    "# Split the feature Date into day, month and year\n",
    "(df['Date'], lambda x: x.split('/'))\n",
    "\n",
    "df[['Date', 'day', 'month', 'year']].head()"
   ]
  },
  {
   "cell_type": "markdown",
   "metadata": {},
   "source": [
    "### Feature engineering\n",
    "\n",
    "You can create new features based on the features you have. These might be more useful for your (future) machine learning model than the ones that are already present in the dataset.\n",
    "In this squirrel dataset, most of the fields encode the action taken by the squirrel when being approached by the human.\n",
    "We will combine them into a single feature `Reaction` with values `'yes'` and `'no'`."
   ]
  },
  {
   "cell_type": "code",
   "execution_count": 19,
   "metadata": {},
   "outputs": [
    {
     "data": {
      "text/plain": [
       "0        no\n",
       "1        no\n",
       "2        no\n",
       "3       yes\n",
       "4        no\n",
       "       ... \n",
       "3018    yes\n",
       "3019     no\n",
       "3020     no\n",
       "3021     no\n",
       "3022    yes\n",
       "Name: Reaction, Length: 3023, dtype: object"
      ]
     },
     "execution_count": 19,
     "metadata": {},
     "output_type": "execute_result"
    }
   ],
   "source": [
    "reaction_columns = ['Kuks', 'Quaas', 'Moans', 'Tail flags',\n",
    "                   'Tail twitches', 'Approaches', 'Runs from',\n",
    "                   'Other Interactions']\n",
    "\n",
    "df['Reaction'] = df[reaction_columns].any(axis=1)\n",
    "df['Reaction'] = df['Reaction'].apply(lambda x : \"yes\" if x else \"no\")\n",
    "df['Reaction']"
   ]
  },
  {
   "cell_type": "markdown",
   "metadata": {},
   "source": [
    "A important step for a data processing pipeline is making the data understandable for machine learning algorithms. Most of them do not understand strings, like `yes` and `no` in our newly created column.\n",
    "We need to transform them to a binary format so that the machine learning model can take advantage of that feature.We are going to **One Hot Encode** our feature.\n"
   ]
  },
  {
   "cell_type": "code",
   "execution_count": 20,
   "metadata": {},
   "outputs": [
    {
     "data": {
      "text/html": [
       "<div>\n",
       "<style scoped>\n",
       "    .dataframe tbody tr th:only-of-type {\n",
       "        vertical-align: middle;\n",
       "    }\n",
       "\n",
       "    .dataframe tbody tr th {\n",
       "        vertical-align: top;\n",
       "    }\n",
       "\n",
       "    .dataframe thead th {\n",
       "        text-align: right;\n",
       "    }\n",
       "</style>\n",
       "<table border=\"1\" class=\"dataframe\">\n",
       "  <thead>\n",
       "    <tr style=\"text-align: right;\">\n",
       "      <th></th>\n",
       "      <th>Reaction_no</th>\n",
       "      <th>Reaction_yes</th>\n",
       "    </tr>\n",
       "  </thead>\n",
       "  <tbody>\n",
       "    <tr>\n",
       "      <th>0</th>\n",
       "      <td>1</td>\n",
       "      <td>0</td>\n",
       "    </tr>\n",
       "    <tr>\n",
       "      <th>1</th>\n",
       "      <td>1</td>\n",
       "      <td>0</td>\n",
       "    </tr>\n",
       "    <tr>\n",
       "      <th>2</th>\n",
       "      <td>1</td>\n",
       "      <td>0</td>\n",
       "    </tr>\n",
       "    <tr>\n",
       "      <th>3</th>\n",
       "      <td>0</td>\n",
       "      <td>1</td>\n",
       "    </tr>\n",
       "    <tr>\n",
       "      <th>4</th>\n",
       "      <td>1</td>\n",
       "      <td>0</td>\n",
       "    </tr>\n",
       "    <tr>\n",
       "      <th>...</th>\n",
       "      <td>...</td>\n",
       "      <td>...</td>\n",
       "    </tr>\n",
       "    <tr>\n",
       "      <th>3018</th>\n",
       "      <td>0</td>\n",
       "      <td>1</td>\n",
       "    </tr>\n",
       "    <tr>\n",
       "      <th>3019</th>\n",
       "      <td>1</td>\n",
       "      <td>0</td>\n",
       "    </tr>\n",
       "    <tr>\n",
       "      <th>3020</th>\n",
       "      <td>1</td>\n",
       "      <td>0</td>\n",
       "    </tr>\n",
       "    <tr>\n",
       "      <th>3021</th>\n",
       "      <td>1</td>\n",
       "      <td>0</td>\n",
       "    </tr>\n",
       "    <tr>\n",
       "      <th>3022</th>\n",
       "      <td>0</td>\n",
       "      <td>1</td>\n",
       "    </tr>\n",
       "  </tbody>\n",
       "</table>\n",
       "<p>3023 rows × 2 columns</p>\n",
       "</div>"
      ],
      "text/plain": [
       "      Reaction_no  Reaction_yes\n",
       "0               1             0\n",
       "1               1             0\n",
       "2               1             0\n",
       "3               0             1\n",
       "4               1             0\n",
       "...           ...           ...\n",
       "3018            0             1\n",
       "3019            1             0\n",
       "3020            1             0\n",
       "3021            1             0\n",
       "3022            0             1\n",
       "\n",
       "[3023 rows x 2 columns]"
      ]
     },
     "execution_count": 20,
     "metadata": {},
     "output_type": "execute_result"
    }
   ],
   "source": [
    "pd.get_dummies(df.Reaction, prefix='Reaction')"
   ]
  },
  {
   "cell_type": "markdown",
   "metadata": {},
   "source": [
    "However, we have a redundancy here, as we could just transform `'yes'` to `1` and `'no'` to `0` in our `Reaction` column. This can be done by setting the argument `drop_first` to `True`."
   ]
  },
  {
   "cell_type": "code",
   "execution_count": 21,
   "metadata": {},
   "outputs": [
    {
     "data": {
      "text/html": [
       "<div>\n",
       "<style scoped>\n",
       "    .dataframe tbody tr th:only-of-type {\n",
       "        vertical-align: middle;\n",
       "    }\n",
       "\n",
       "    .dataframe tbody tr th {\n",
       "        vertical-align: top;\n",
       "    }\n",
       "\n",
       "    .dataframe thead th {\n",
       "        text-align: right;\n",
       "    }\n",
       "</style>\n",
       "<table border=\"1\" class=\"dataframe\">\n",
       "  <thead>\n",
       "    <tr style=\"text-align: right;\">\n",
       "      <th></th>\n",
       "      <th>Reaction</th>\n",
       "    </tr>\n",
       "  </thead>\n",
       "  <tbody>\n",
       "    <tr>\n",
       "      <th>0</th>\n",
       "      <td>0</td>\n",
       "    </tr>\n",
       "    <tr>\n",
       "      <th>1</th>\n",
       "      <td>0</td>\n",
       "    </tr>\n",
       "    <tr>\n",
       "      <th>2</th>\n",
       "      <td>0</td>\n",
       "    </tr>\n",
       "    <tr>\n",
       "      <th>3</th>\n",
       "      <td>1</td>\n",
       "    </tr>\n",
       "    <tr>\n",
       "      <th>4</th>\n",
       "      <td>0</td>\n",
       "    </tr>\n",
       "    <tr>\n",
       "      <th>...</th>\n",
       "      <td>...</td>\n",
       "    </tr>\n",
       "    <tr>\n",
       "      <th>3018</th>\n",
       "      <td>1</td>\n",
       "    </tr>\n",
       "    <tr>\n",
       "      <th>3019</th>\n",
       "      <td>0</td>\n",
       "    </tr>\n",
       "    <tr>\n",
       "      <th>3020</th>\n",
       "      <td>0</td>\n",
       "    </tr>\n",
       "    <tr>\n",
       "      <th>3021</th>\n",
       "      <td>0</td>\n",
       "    </tr>\n",
       "    <tr>\n",
       "      <th>3022</th>\n",
       "      <td>1</td>\n",
       "    </tr>\n",
       "  </tbody>\n",
       "</table>\n",
       "<p>3023 rows × 1 columns</p>\n",
       "</div>"
      ],
      "text/plain": [
       "      Reaction\n",
       "0            0\n",
       "1            0\n",
       "2            0\n",
       "3            1\n",
       "4            0\n",
       "...        ...\n",
       "3018         1\n",
       "3019         0\n",
       "3020         0\n",
       "3021         0\n",
       "3022         1\n",
       "\n",
       "[3023 rows x 1 columns]"
      ]
     },
     "execution_count": 21,
     "metadata": {},
     "output_type": "execute_result"
    }
   ],
   "source": [
    "df = pd.get_dummies(df.Reaction, prefix='Reaction', drop_first=\"True\")\n",
    "df.rename(columns={\"Reaction_yes\" : \"Reaction\"})"
   ]
  },
  {
   "cell_type": "markdown",
   "metadata": {},
   "source": [
    "\n",
    "Similar things can be done after converting the data frame to an array using the `scikit-learn` library with `LabelBinarizer` or `OneHotEncoder`."
   ]
  },
  {
   "cell_type": "markdown",
   "metadata": {},
   "source": [
    "## Feature normalization or standardization\n",
    "Although they are sometimes used interchangeably, normalization and standardization are two different ways to bring a column of values to a common scale.\n",
    "In this section, we're going to use the word normalization to refer to this concept.\n",
    "\n",
    "Why do we normalize data ?\n",
    "\n",
    "*For example, assume your input dataset contains one column with values ranging from 0 to 1, and another column with values ranging from 10,000 to 100,000. The great difference in the scale of the numbers could cause problems when you attempt to combine the values as features during modeling.* [[Source]](https://docs.microsoft.com/en-us/azure/machine-learning/studio-module-reference/normalize-data)\n",
    "\n",
    "Some algorithms require that data be normalized before training a model. Other algorithms perform their own data scaling or normalization.\n",
    "\n",
    "Given a column of values *x*, if we choose to scale them, there are a few options:\n",
    "\n",
    "- Normalization, also called *min-max scaling*, rescales every value to a range between [0, 1]. The maximum and the minimum are computed for each column separately.\n",
    "\n",
    "  $$ z = \\frac{x - min(x)}{max(x) - min(x)} $$\n",
    "\n",
    "- Standardization, also called z-score normalization, rescales the value around a 0 mean and a standard deviation of 1. It essentially transforms all values of *x* to a *z-score*. Mean and standard deviation are computed for each column separately.\n",
    "\n",
    "$$ z = \\frac{x - mean(x)}{std(x)} $$\n",
    "\n",
    "\n",
    "### Be careful!\n",
    "\n",
    "When you want to normalize your dataset, you have to do so **AFTER** splitting your data into different train-test splits. Indeed, normalizing your data before would use some information from your testing set in the training set, thus biasing the model.\n",
    "Indeed, in a real world scenario, you would not have access to the testing set, as this would be the data that you are meant to predict.\n",
    "\n",
    "The procedure is the following:\n",
    "1. Split your data into train and test\n",
    "2. For every variable $x$ of your **training set**, compute $max(x_{train})$ and $min(x_{train})$ , or $mean(x_{train})$ and $std(x_{train})$ depending if you do min-max scaling or z-score-normalization.\n",
    "3. Normalize your training set and your testing set using these values (here I'm only showing the testing set).\n",
    "$$ z_{test} = \\frac{x_{test} - min(x_{train})}{max(x_{train}) - min(x_{train})} $$\n",
    "\n",
    "\n",
    "$$ z_{test} = \\frac{x_{test} - mean(x_{train})}{std(x_{train})} $$\n"
   ]
  },
  {
   "cell_type": "code",
   "execution_count": 22,
   "metadata": {},
   "outputs": [],
   "source": [
    "from sklearn.model_selection import train_test_split\n",
    "from sklearn import datasets\n",
    "import numpy as np\n",
    "dataset = datasets.load_breast_cancer()\n",
    "X, y = dataset.data, dataset.target"
   ]
  },
  {
   "cell_type": "code",
   "execution_count": 23,
   "metadata": {},
   "outputs": [
    {
     "name": "stdout",
     "output_type": "stream",
     "text": [
      "['mean radius' 'mean texture' 'mean perimeter' 'mean area'\n",
      " 'mean smoothness' 'mean compactness' 'mean concavity'\n",
      " 'mean concave points' 'mean symmetry' 'mean fractal dimension'\n",
      " 'radius error' 'texture error' 'perimeter error' 'area error'\n",
      " 'smoothness error' 'compactness error' 'concavity error'\n",
      " 'concave points error' 'symmetry error' 'fractal dimension error'\n",
      " 'worst radius' 'worst texture' 'worst perimeter' 'worst area'\n",
      " 'worst smoothness' 'worst compactness' 'worst concavity'\n",
      " 'worst concave points' 'worst symmetry' 'worst fractal dimension']\n"
     ]
    }
   ],
   "source": [
    "print(dataset.feature_names)"
   ]
  },
  {
   "cell_type": "code",
   "execution_count": 24,
   "metadata": {},
   "outputs": [
    {
     "name": "stdout",
     "output_type": "stream",
     "text": [
      "(455, 30)\n"
     ]
    }
   ],
   "source": [
    "# Splitting data into train and test split\n",
    "X_train, X_test, y_train, y_test = train_test_split(X,y, random_state=41, test_size=0.2)\n",
    "print(X_train.shape)"
   ]
  },
  {
   "cell_type": "markdown",
   "metadata": {},
   "source": [
    "Here, we'll want you to use numpy's mean and standard deviation functions to standardize each feature of the training and testing set. These are `np.mean()` and `np.std()`."
   ]
  },
  {
   "cell_type": "code",
   "execution_count": 25,
   "metadata": {},
   "outputs": [
    {
     "ename": "NameError",
     "evalue": "name 'mean' is not defined",
     "output_type": "error",
     "traceback": [
      "\u001b[1;31m---------------------------------------------------------------------------\u001b[0m",
      "\u001b[1;31mNameError\u001b[0m                                 Traceback (most recent call last)",
      "\u001b[1;32mc:\\Becode-Course\\content\\4.machine_learning\\0.data_preprocessing\\02.preprocessing.ipynb Cell 22'\u001b[0m in \u001b[0;36m<cell line: 3>\u001b[1;34m()\u001b[0m\n\u001b[0;32m      <a href='vscode-notebook-cell:/c%3A/Becode-Course/content/4.machine_learning/0.data_preprocessing/02.preprocessing.ipynb#ch0000021?line=0'>1</a>\u001b[0m \u001b[39m# Standardizing each feature using the train mean and standard deviation\u001b[39;00m\n\u001b[0;32m      <a href='vscode-notebook-cell:/c%3A/Becode-Course/content/4.machine_learning/0.data_preprocessing/02.preprocessing.ipynb#ch0000021?line=2'>3</a>\u001b[0m \u001b[39mfor\u001b[39;00m idx, name \u001b[39min\u001b[39;00m \u001b[39menumerate\u001b[39m(dataset\u001b[39m.\u001b[39mfeature_names):\n\u001b[0;32m      <a href='vscode-notebook-cell:/c%3A/Becode-Course/content/4.machine_learning/0.data_preprocessing/02.preprocessing.ipynb#ch0000021?line=3'>4</a>\u001b[0m     \u001b[39m# Get mean and standard deviation from training set (per feature)\u001b[39;00m\n\u001b[1;32m----> <a href='vscode-notebook-cell:/c%3A/Becode-Course/content/4.machine_learning/0.data_preprocessing/02.preprocessing.ipynb#ch0000021?line=5'>6</a>\u001b[0m     \u001b[39mprint\u001b[39m(\u001b[39mf\u001b[39m\u001b[39m\"\u001b[39m\u001b[39mFeature \u001b[39m\u001b[39m'\u001b[39m\u001b[39m{\u001b[39;00mname\u001b[39m}\u001b[39;00m\u001b[39m'\u001b[39m\u001b[39m has mean \u001b[39m\u001b[39m{\u001b[39;00mmean\u001b[39m:\u001b[39;00m\u001b[39m.2f\u001b[39m\u001b[39m}\u001b[39;00m\u001b[39m and standard deviation \u001b[39m\u001b[39m{\u001b[39;00mstdev\u001b[39m:\u001b[39;00m\u001b[39m.2f\u001b[39m\u001b[39m}\u001b[39;00m\u001b[39m\"\u001b[39m)\n",
      "\u001b[1;31mNameError\u001b[0m: name 'mean' is not defined"
     ]
    }
   ],
   "source": [
    "# Standardizing each feature using the train mean and standard deviation\n",
    "\n",
    "for idx, name in enumerate(dataset.feature_names):\n",
    "    # Get mean and standard deviation from training set (per feature)\n",
    "\n",
    "    print(f\"Feature '{name}' has mean {mean:.2f} and standard deviation {stdev:.2f}\")\n",
    "    # Standardize training and testing set using the mean and standard deviation from the training set\n"
   ]
  },
  {
   "cell_type": "markdown",
   "metadata": {},
   "source": [
    "If you run the previous cell twice (without running the others cells again), you'll see that the second time, the mean and standard deviation for each feature will be 0 and 1 respectively, which is exactly what we want when we standardize (z-score normalization)."
   ]
  },
  {
   "cell_type": "markdown",
   "metadata": {},
   "source": [
    "## Resampling\n",
    "\n",
    "Sometimes, when you have multiple classes and the number of samples of each class are not equally distributed, i.e. there is an imbalance in the number of samples of each class, you can resort to resampling.\n",
    "Resampling is using more (or less) of a given class to get a balanced dataset.\n",
    "\n",
    "**BE CAREFUL**, resample **AFTER** splitting your data set into two parts. You do not want to accidentally have a copy of a testing sample in the training set.\n",
    "Moreover, **do not resample the testing set**. This would give a false sense of the performance of the model.\n"
   ]
  },
  {
   "cell_type": "code",
   "execution_count": 26,
   "metadata": {},
   "outputs": [],
   "source": [
    "\n",
    "import sklearn\n",
    "import numpy as np\n",
    "from sklearn import datasets\n",
    "\n",
    "dataset = datasets.load_breast_cancer()\n",
    "X, y = dataset.data, dataset.target\n"
   ]
  },
  {
   "cell_type": "code",
   "execution_count": 27,
   "metadata": {},
   "outputs": [
    {
     "name": "stdout",
     "output_type": "stream",
     "text": [
      "Shape of class 0 samples :  (212, 30)\n",
      "Shape of class 1 samples :  (357, 30)\n"
     ]
    }
   ],
   "source": [
    "# We separate the samples of the different classes\n",
    "class_one_idx = np.argwhere(y==1)\n",
    "class_zero_idx = np.argwhere(y==0)\n",
    "\n",
    "class_one_x = np.squeeze(X[class_one_idx])\n",
    "class_zero_x = np.squeeze(X[class_zero_idx])\n",
    "\n",
    "print(\"Shape of class 0 samples : \", class_zero_x.shape)\n",
    "print(\"Shape of class 1 samples : \", class_one_x.shape)\n"
   ]
  },
  {
   "cell_type": "markdown",
   "metadata": {},
   "source": [
    "You see that we have 212 samples of class 0 and 357 samples of class 1.\n",
    "We can either upsample, i.e. take more samples of, the minority class (here class 0) or we can downsample, i.e. take fewer samples of, the majority class (here class 1).\n",
    "To do this, we first have to separate the samples of each class."
   ]
  },
  {
   "cell_type": "code",
   "execution_count": 7,
   "metadata": {},
   "outputs": [
    {
     "name": "stdout",
     "output_type": "stream",
     "text": [
      "New shape of class 0 samples:  (357, 30)\n",
      "New shape of class 1 samples:  (212, 30)\n"
     ]
    }
   ],
   "source": [
    "from sklearn.utils import resample\n",
    "\n",
    "# Upsample minority class\n",
    "class_zero_upsampled = resample(class_zero_x, \n",
    "                                 replace=True,     # sample with replacement\n",
    "                                 n_samples=357,    # to match majority class\n",
    "                                 random_state=123) # reproducible results\n",
    "\n",
    "print(\"New shape of class 0 samples: \",class_zero_upsampled.shape)\n",
    "\n",
    "# Downsample majority class\n",
    "class_one_downsampled = resample(class_one_x, \n",
    "                                 replace=True,     # sample with replacement\n",
    "                                 n_samples=212,    # to match minority class\n",
    "                                 random_state=123) # reproducible results\n",
    "\n",
    "print(\"New shape of class 1 samples: \",class_one_downsampled.shape)\n"
   ]
  },
  {
   "cell_type": "markdown",
   "metadata": {},
   "source": [
    "After having either upsampled our minority class, or downsampled our majority class, we can combine the upsampled with the majority class or the downsampled with the minority class to have a balanced data set.\n",
    "\n",
    "Which one you use depends on what you want to do, and which one does best."
   ]
  },
  {
   "cell_type": "code",
   "execution_count": 8,
   "metadata": {},
   "outputs": [
    {
     "name": "stdout",
     "output_type": "stream",
     "text": [
      "(Upsampled) Balanced data set shape :  (714, 30)\n",
      "(Downsampled) Balanced data set shape :  (424, 30)\n"
     ]
    }
   ],
   "source": [
    "X_balanced = np.concatenate((class_zero_upsampled, class_one_x), axis=0)\n",
    "print(\"(Upsampled) Balanced data set shape : \", X_balanced.shape)\n",
    "\n",
    "X_balanced = np.concatenate((class_one_downsampled, class_zero_x), axis=0)\n",
    "print(\"(Downsampled) Balanced data set shape : \", X_balanced.shape)"
   ]
  },
  {
   "cell_type": "markdown",
   "metadata": {},
   "source": [
    "## Reading material and additional ressources\n",
    "\n",
    "[[1] Feature Engineering - Elite Data Science](https://elitedatascience.com/feature-engineering)  \n",
    "[[2] Feature Engineering - Towards Data Science](https://towardsdatascience.com/feature-engineering-for-machine-learning-3a5e293a5114)  \n",
    "[[3] Feature Engineering Tutorial - Kaggle](https://towardsdatascience.com/feature-engineering-for-machine-learning-3a5e293a5114)  \n",
    "[[4] LabelBinarizer - scikit-learn](https://scikit-learn.org/stable/modules/generated/sklearn.preprocessing.LabelEncoder.html)  \n",
    "[[5] OneHotEncoder - scikit-learn](https://scikit-learn.org/stable/modules/generated/sklearn.preprocessing.OneHotEncoder.html)  \n",
    "[[6] Zscore - Simply Psychology](https://www.simplypsychology.org/z-score.html)  \n",
    "[[7] Normalize data - Microsoft Azure](https://docs.microsoft.com/en-us/azure/machine-learning/studio-module-reference/normalize-data)  \n",
    "[[8] How to handle imbalanced classes - Elite Data Science ](https://elitedatascience.com/imbalanced-classes)"
   ]
  }
 ],
 "metadata": {
  "kernelspec": {
   "display_name": "Python 3.10.4 64-bit",
   "language": "python",
   "name": "python3"
  },
  "language_info": {
   "codemirror_mode": {
    "name": "ipython",
    "version": 3
   },
   "file_extension": ".py",
   "mimetype": "text/x-python",
   "name": "python",
   "nbconvert_exporter": "python",
   "pygments_lexer": "ipython3",
   "version": "3.10.4"
  },
  "vscode": {
   "interpreter": {
    "hash": "77b488172f6395ed7ed4be6427d3801d94de35114cde1c952c68f4bf0e7fa312"
   }
  }
 },
 "nbformat": 4,
 "nbformat_minor": 4
}
