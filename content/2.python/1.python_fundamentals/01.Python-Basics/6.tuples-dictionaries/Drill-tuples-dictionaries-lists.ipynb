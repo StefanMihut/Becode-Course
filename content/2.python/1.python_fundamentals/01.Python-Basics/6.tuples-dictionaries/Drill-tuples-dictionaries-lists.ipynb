{
 "cells": [
  {
   "cell_type": "markdown",
   "metadata": {},
   "source": [
    "# Drill : Lists, Tuples, Dictionaries"
   ]
  },
  {
   "cell_type": "markdown",
   "metadata": {},
   "source": [
    "### 1. Choose 5 words from the English language and create  dictionaries that associates each of these words with its French translation."
   ]
  },
  {
   "cell_type": "code",
   "execution_count": 1,
   "metadata": {},
   "outputs": [
    {
     "name": "stdout",
     "output_type": "stream",
     "text": [
      "{'city': 'ville', 'last': 'dernier', 'cross': 'traverser', 'far': 'loin', 'sea': 'mer'}\n"
     ]
    }
   ],
   "source": [
    "eng_to_french = {\"city\" : \"ville\", \"last\" : \"dernier\", \"cross\" : \"traverser\", \"far\" : \"loin\", \"sea\" : \"mer\"}\n",
    "print(eng_to_french)"
   ]
  },
  {
   "cell_type": "markdown",
   "metadata": {},
   "source": [
    "### 2. Add an entry to the dictionary of the previous question (a new word and its definition)."
   ]
  },
  {
   "cell_type": "code",
   "execution_count": 2,
   "metadata": {},
   "outputs": [
    {
     "name": "stdout",
     "output_type": "stream",
     "text": [
      "{'city': 'ville', 'last': 'dernier', 'cross': 'traverser', 'far': 'loin', 'sea': 'mer', 'never': 'jamais'}\n"
     ]
    }
   ],
   "source": [
    "eng_to_french[\"never\"] = \"jamais\"\n",
    "print(eng_to_french)"
   ]
  },
  {
   "cell_type": "markdown",
   "metadata": {},
   "source": [
    "### 3. How would you cut the following string at each space and put it in a list?"
   ]
  },
  {
   "cell_type": "code",
   "execution_count": 3,
   "metadata": {},
   "outputs": [
    {
     "name": "stdout",
     "output_type": "stream",
     "text": [
      "['I', 'am', 'the', 'master', 'of', 'the', 'world']\n"
     ]
    }
   ],
   "source": [
    "sentence = \"I am the master of the world\"\n",
    "list_sentence = list(sentence.split(\" \"))\n",
    "print(list_sentence)"
   ]
  },
  {
   "cell_type": "markdown",
   "metadata": {},
   "source": [
    "### 4. Transform this string \"The_universal_number_is_42\" by removing the underscores: \"The universal number is 42\""
   ]
  },
  {
   "cell_type": "code",
   "execution_count": 5,
   "metadata": {},
   "outputs": [
    {
     "name": "stdout",
     "output_type": "stream",
     "text": [
      "The universal number is 42\n"
     ]
    }
   ],
   "source": [
    "universal_number = \"The_universal_number_is_42\"\n",
    "print(universal_number.replace(\"_\", \" \"))"
   ]
  },
  {
   "cell_type": "markdown",
   "metadata": {},
   "source": [
    "### 5. Display only values of this dictionary."
   ]
  },
  {
   "cell_type": "code",
   "execution_count": 6,
   "metadata": {},
   "outputs": [
    {
     "name": "stdout",
     "output_type": "stream",
     "text": [
      "dict_values(['Clark Kent', 'Bruce Wayne', 'Tony Parker'])\n"
     ]
    }
   ],
   "source": [
    "heroes = {\"Superman\": \"Clark Kent\", \"Batman\": \"Bruce Wayne\", \"Spiderman\": \"Tony Parker\"}\n",
    "print(heroes.values())"
   ]
  },
  {
   "cell_type": "markdown",
   "metadata": {},
   "source": [
    "### 6. Display only keys of this dictionary."
   ]
  },
  {
   "cell_type": "code",
   "execution_count": 7,
   "metadata": {},
   "outputs": [
    {
     "name": "stdout",
     "output_type": "stream",
     "text": [
      "dict_keys(['Superman', 'Batman', 'Spiderman'])\n"
     ]
    }
   ],
   "source": [
    "heroes = {\"Superman\": \"Clark Kent\", \"Batman\": \"Bruce Wayne\", \"Spiderman\": \"Tony Parker\"}\n",
    "print(heroes.keys())"
   ]
  },
  {
   "cell_type": "markdown",
   "metadata": {},
   "source": [
    "### 7. Replace the value of  \"Spiderman\" by \"Peter Parker\"."
   ]
  },
  {
   "cell_type": "code",
   "execution_count": 8,
   "metadata": {},
   "outputs": [
    {
     "name": "stdout",
     "output_type": "stream",
     "text": [
      "{'Superman': 'Peter Parker', 'Batman': 'Bruce Wayne', 'Spiderman': 'Tony Parker'}\n"
     ]
    }
   ],
   "source": [
    "heroes = {\"Superman\": \"Clark Kent\", \"Batman\": \"Bruce Wayne\", \"Spiderman\": \"Tony Parker\"}\n",
    "heroes[\"Superman\"] = \"Peter Parker\"\n",
    "print(heroes)"
   ]
  },
  {
   "cell_type": "markdown",
   "metadata": {},
   "source": [
    "### 8. Create a dictionary to build the price base of the products corresponding to the following table.\n",
    "\n",
    "    Laser sword // 229.0\n",
    "    Mitendo DX // 127.30\n",
    "    Linux cushion // 74.50\n",
    "    Goldorak briefs // 29.90\n",
    "    Nextpresso station // 184.60"
   ]
  },
  {
   "cell_type": "code",
   "execution_count": 9,
   "metadata": {},
   "outputs": [
    {
     "name": "stdout",
     "output_type": "stream",
     "text": [
      "{'Laser sword': 229.0, ' Mitendo DX': 127.3, 'Linux cushion': 74.5, 'Goldorak briefs': 29.9, 'Nextpresso station': 184.6}\n"
     ]
    }
   ],
   "source": [
    "pb = {\"Laser sword\": 229.0, \" Mitendo DX\" : 127.30, \"Linux cushion\" : 74.50, \"Goldorak briefs\" : 29.90,\n",
    "        \"Nextpresso station\" : 184.60}\n",
    "print(pb)"
   ]
  },
  {
   "cell_type": "markdown",
   "metadata": {},
   "source": [
    "### 9. Calculate the total price of the items of the dictionary."
   ]
  },
  {
   "cell_type": "code",
   "execution_count": 10,
   "metadata": {},
   "outputs": [
    {
     "name": "stdout",
     "output_type": "stream",
     "text": [
      "645.3\n"
     ]
    }
   ],
   "source": [
    "tp = sum(pb.values())\n",
    "print(tp)"
   ]
  },
  {
   "cell_type": "markdown",
   "metadata": {},
   "source": [
    "### 10. Remove one of the articles from the dictionary."
   ]
  },
  {
   "cell_type": "code",
   "execution_count": 11,
   "metadata": {},
   "outputs": [
    {
     "name": "stdout",
     "output_type": "stream",
     "text": [
      "{'Laser sword': 229.0, ' Mitendo DX': 127.3, 'Linux cushion': 74.5, 'Goldorak briefs': 29.9}\n"
     ]
    }
   ],
   "source": [
    "pb.pop(\"Nextpresso station\")\n",
    "print(pb)"
   ]
  },
  {
   "cell_type": "markdown",
   "metadata": {},
   "source": [
    "## [Next one](../7.loops-and-iterations/loops-and-iterations.ipynb)"
   ]
  }
 ],
 "metadata": {
  "interpreter": {
   "hash": "77b488172f6395ed7ed4be6427d3801d94de35114cde1c952c68f4bf0e7fa312"
  },
  "kernelspec": {
   "display_name": "Python 3.10.4 64-bit",
   "language": "python",
   "name": "python3"
  },
  "language_info": {
   "codemirror_mode": {
    "name": "ipython",
    "version": 3
   },
   "file_extension": ".py",
   "mimetype": "text/x-python",
   "name": "python",
   "nbconvert_exporter": "python",
   "pygments_lexer": "ipython3",
   "version": "3.10.4"
  }
 },
 "nbformat": 4,
 "nbformat_minor": 2
}
