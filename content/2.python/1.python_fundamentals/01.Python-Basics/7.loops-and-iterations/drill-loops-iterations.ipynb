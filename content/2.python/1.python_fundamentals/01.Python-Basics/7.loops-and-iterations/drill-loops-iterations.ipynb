{
 "cells": [
  {
   "cell_type": "markdown",
   "metadata": {},
   "source": [
    "# Drill loops and iterations"
   ]
  },
  {
   "cell_type": "markdown",
   "metadata": {},
   "source": [
    "### 1. Display all students in the `students` list in alphabetical order."
   ]
  },
  {
   "cell_type": "code",
   "execution_count": 1,
   "metadata": {},
   "outputs": [],
   "source": [
    "students = [\n",
    "    \"Merouane\",\n",
    "    \"Baptiste\",\n",
    "    \"Caroline\",\n",
    "    \"Joe\",\n",
    "    \"Sophie\",\n",
    "    \"Nathan\",\n",
    "    \"Raphaël\",\n",
    "    \"Axel\",\n",
    "    \"Mathieu\",\n",
    "    \"Adrien\",\n",
    "]"
   ]
  },
  {
   "cell_type": "markdown",
   "metadata": {},
   "source": [
    "### 2. Display only the names which begin with the letter \"M\"."
   ]
  },
  {
   "cell_type": "code",
   "execution_count": 2,
   "metadata": {},
   "outputs": [
    {
     "name": "stdout",
     "output_type": "stream",
     "text": [
      "Merouane\n",
      "Mathieu\n"
     ]
    }
   ],
   "source": [
    "initial = \"M\"\n",
    "for name in students:\n",
    "    if name[0] == initial:\n",
    "        print(name)"
   ]
  },
  {
   "cell_type": "markdown",
   "metadata": {},
   "source": [
    "### 3. Display integers from 0 to 15 not included, using a `for` loop and the `range()` instruction."
   ]
  },
  {
   "cell_type": "code",
   "execution_count": 10,
   "metadata": {},
   "outputs": [
    {
     "name": "stdout",
     "output_type": "stream",
     "text": [
      "1\n",
      "2\n",
      "3\n",
      "4\n",
      "5\n",
      "6\n",
      "7\n",
      "8\n",
      "9\n",
      "10\n",
      "11\n",
      "12\n",
      "13\n",
      "14\n"
     ]
    }
   ],
   "source": [
    "for i in range(1,15):\n",
    "    print(i)"
   ]
  },
  {
   "cell_type": "markdown",
   "metadata": {},
   "source": [
    "### 4. Create a `for` loop that displays integers from 1 to 10 included, but use the `break` instruction to interrupt it at 5."
   ]
  },
  {
   "cell_type": "code",
   "execution_count": 11,
   "metadata": {},
   "outputs": [
    {
     "name": "stdout",
     "output_type": "stream",
     "text": [
      "1\n",
      "2\n",
      "3\n",
      "4\n",
      "5\n"
     ]
    }
   ],
   "source": [
    "for i in range(1,11):\n",
    "    print(i)\n",
    "    if i == 5:\n",
    "        break"
   ]
  },
  {
   "cell_type": "markdown",
   "metadata": {},
   "source": [
    "### 4. Create a `for` loop that displays integers from 1 to 10 included, but use the `continue` to modify its execution at 5."
   ]
  },
  {
   "cell_type": "code",
   "execution_count": 14,
   "metadata": {},
   "outputs": [
    {
     "name": "stdout",
     "output_type": "stream",
     "text": [
      "1\n",
      "\n",
      "2\n",
      "\n",
      "3\n",
      "\n",
      "4\n",
      "\n",
      "5\n",
      "6\n",
      "\n",
      "7\n",
      "\n",
      "8\n",
      "\n",
      "9\n",
      "\n",
      "10\n",
      "\n"
     ]
    }
   ],
   "source": [
    "for i in range(1,11):\n",
    "    print(i)\n",
    "    if i == 5:\n",
    "        continue\n",
    "    print()"
   ]
  },
  {
   "cell_type": "markdown",
   "metadata": {},
   "source": [
    "### 6. Follow the instructions :"
   ]
  },
  {
   "cell_type": "markdown",
   "metadata": {},
   "source": [
    "- **Sort and display the list.**\n",
    "    - Output expected: `[10, 17, 25, 38, 72]`\n",
    "- **Add item 12 to the list and display the list.**\n",
    "    - Output expected: `[17, 38, 10, 25, 72, 12]`\n",
    "- **Reverse and display the list.**\n",
    "    - Output expected: `[12, 72, 25, 10, 38, 17]`\n",
    "- **Display the index of element 17.**\n",
    "    - Output expected: `5`\n",
    "- **Remove item 38 and display the list.**\n",
    "    - Output expected: `[12, 72, 25, 10, 17]`\n",
    "- **Display the sub-list of the 2nd to 3rd element.**\n",
    "    - Output expected: `[72, 25]`\n",
    "- **Display the sub-list from the beginning to the 2nd element.**\n",
    "    - Output expected: `[12, 72]`\n",
    "- **Display the sub-list of the 3rd element at the end of the list.**\n",
    "    - Output expected: `[25, 10, 17]`\n",
    "- **Display the complete sub-list of the list.**\n",
    "    - Output expected: `[12, 72, 25, 10, 17]`\n",
    "- **Display the last element using a negative indication.**\n",
    "    - Output expected: `[17]`"
   ]
  },
  {
   "cell_type": "code",
   "execution_count": 17,
   "metadata": {},
   "outputs": [
    {
     "name": "stdout",
     "output_type": "stream",
     "text": [
      "[10, 17, 25, 38, 72]\n",
      "[17, 38, 10, 25, 72, 12]\n",
      "[17, 38, 10, 25, 72, 12]\n",
      "0\n",
      "[17, 10, 25, 72, 12]\n",
      "[17, 10, 25, 72, 12]\n",
      "[10, 25]\n",
      "[17, 10]\n",
      "[25, 72, 12]\n",
      "[17, 10, 25, 72, 12]\n",
      "[12]\n"
     ]
    }
   ],
   "source": [
    "list_of_numbers = [17, 38, 10, 25, 72]\n",
    "#sort\n",
    "print(sorted(list_of_numbers))\n",
    "#append\n",
    "list_of_numbers.append(12)\n",
    "print(list_of_numbers)\n",
    "#reverse\n",
    "list_of_numbers.reverse\n",
    "print(list_of_numbers)\n",
    "#index\n",
    "print(list_of_numbers.index(17))\n",
    "#remove\n",
    "list_of_numbers.remove(38)\n",
    "print(list_of_numbers)\n",
    "#sub\n",
    "print(list_of_numbers)\n",
    "print(list_of_numbers[1:3])\n",
    "print(list_of_numbers[0:2])\n",
    "print(list_of_numbers[-3:])\n",
    "print(list_of_numbers[:])\n",
    "print(list_of_numbers[-1:])"
   ]
  },
  {
   "cell_type": "markdown",
   "metadata": {},
   "source": [
    "Note that some list methods do not return anything."
   ]
  },
  {
   "cell_type": "markdown",
   "metadata": {},
   "source": [
    "### 7. Write an algorithm that:\n",
    "1. Asks the user to enter a number.\n",
    "2. Make sure that your program displays all the numbers down to 0. For example, if the user enters the number 3, then your program will display something like this: `3,2,1,0`"
   ]
  },
  {
   "cell_type": "code",
   "execution_count": 19,
   "metadata": {},
   "outputs": [
    {
     "name": "stdout",
     "output_type": "stream",
     "text": [
      "3\n",
      "2\n",
      "1\n",
      "0\n"
     ]
    }
   ],
   "source": [
    "num = int(input(\"Insert a number\"))\n",
    "print(num)\n",
    "while num > 0:\n",
    "    num -= 1\n",
    "    print(num)"
   ]
  },
  {
   "cell_type": "markdown",
   "metadata": {},
   "source": [
    "### 8.The price is right ! \n",
    "- Create a variable that will contain the number to be found. \n",
    "- Then create a function that will ask the user to find this price (asking for a number). \n",
    "- If the user enters a number that is too high, output the sentence: \"It's less.\". \n",
    "- If he enters a number that is too low, output the sentence: \"It's more.\". \n",
    "- If the user finds the right price, output the sentence: \"Well done, you won!\"."
   ]
  },
  {
   "cell_type": "code",
   "execution_count": 22,
   "metadata": {},
   "outputs": [
    {
     "name": "stdout",
     "output_type": "stream",
     "text": [
      "Well done, you won!\n"
     ]
    }
   ],
   "source": [
    "num_found = 4\n",
    "\n",
    "def guess_num(random_num):\n",
    "    num = int(input(\"Guess the number\"))\n",
    "    if num > random_num:\n",
    "        print(\"It's less\")\n",
    "    elif num < random_num:\n",
    "        print(\"it's high\")\n",
    "    elif num == random_num:\n",
    "        print(\"Well done, you won!\")\n",
    "guess_num(num_found)"
   ]
  },
  {
   "cell_type": "markdown",
   "metadata": {},
   "source": [
    "### 9. Display all students with the sentence \"NAME is an alumni. \""
   ]
  },
  {
   "cell_type": "code",
   "execution_count": 23,
   "metadata": {},
   "outputs": [
    {
     "name": "stdout",
     "output_type": "stream",
     "text": [
      "David is an alumni.\n",
      "Justine is an alumni.\n",
      "Valentin is an alumni.\n",
      "Axel is an alumni.\n",
      "Redouane is an alumni.\n",
      "Julie is an alumni.\n",
      "Stéphane is an alumni.\n",
      "Mostapha is an alumni.\n",
      "Claudiu is an alumni.\n",
      "Son is an alumni.\n"
     ]
    }
   ],
   "source": [
    "all_students = [\n",
    "    [\"David\", \"Justine\", \"Valentin\", \"Axel\", \"Redouane\"],\n",
    "    [\"Julie\", \"Stéphane\", \"Mostapha\", \"Claudiu\", \"Son\"],\n",
    "]\n",
    "\n",
    "for students in all_students:\n",
    "    for student in students:\n",
    "        print(\"{} is an alumni.\".format(student))"
   ]
  },
  {
   "cell_type": "markdown",
   "metadata": {},
   "source": [
    "**10. Display all elements. If the element is part of the first list, display - `\"ELEMENT_HERE is a backend language?\"` - and if the element is part of the second list, display - `\"ELEMENT_HERE is a frontend language?\"`** "
   ]
  },
  {
   "cell_type": "code",
   "execution_count": 26,
   "metadata": {},
   "outputs": [
    {
     "name": "stdout",
     "output_type": "stream",
     "text": [
      "PHP\n",
      "PHP is a backand language.\n",
      "Java\n",
      "Java is a backand language.\n",
      "C#\n",
      "C# is a backand language.\n",
      "HTML\n",
      "HTML is a frontend laguage.\n",
      "CSS\n",
      "CSS is a frontend laguage.\n",
      "Javascript\n",
      "Javascript is a frontend laguage.\n"
     ]
    }
   ],
   "source": [
    "languages = [[\"PHP\", \"Java\", \"C#\"], [\"HTML\", \"CSS\", \"Javascript\"]]\n",
    "\n",
    "for lang in languages:\n",
    "    for l in lang:\n",
    "        print(l)\n",
    "        if l in languages[0]:\n",
    "            print(\"{} is a backand language.\".format(l))\n",
    "        else:\n",
    "            print(\"{} is a frontend laguage.\".format(l))"
   ]
  },
  {
   "cell_type": "markdown",
   "metadata": {},
   "source": [
    "## [Next one](../8.everything-is-object/everything-is-object.ipynb)"
   ]
  }
 ],
 "metadata": {
  "interpreter": {
   "hash": "77b488172f6395ed7ed4be6427d3801d94de35114cde1c952c68f4bf0e7fa312"
  },
  "kernelspec": {
   "display_name": "Python 3.10.4 64-bit",
   "language": "python",
   "name": "python3"
  },
  "language_info": {
   "codemirror_mode": {
    "name": "ipython",
    "version": 3
   },
   "file_extension": ".py",
   "mimetype": "text/x-python",
   "name": "python",
   "nbconvert_exporter": "python",
   "pygments_lexer": "ipython3",
   "version": "3.10.4"
  }
 },
 "nbformat": 4,
 "nbformat_minor": 2
}
