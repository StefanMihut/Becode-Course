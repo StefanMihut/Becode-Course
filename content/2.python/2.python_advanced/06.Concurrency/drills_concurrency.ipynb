{
 "cells": [
  {
   "cell_type": "markdown",
   "metadata": {},
   "source": [
    "# Drill - Threading\n",
    "\n"
   ]
  },
  {
   "cell_type": "markdown",
   "metadata": {},
   "source": [
    "### Exercise 1\n",
    "In the `data/` folder, you have 10 files that contain Shakespears sonnets. You have to gather all these files into one file `data_all.txt` using threads. Be careful, the sonnets must appear in order."
   ]
  },
  {
   "cell_type": "code",
   "execution_count": 8,
   "metadata": {},
   "outputs": [
    {
     "name": "stdout",
     "output_type": "stream",
     "text": [
      "<Thread(., started 948)>\n",
      "<Thread(t, started 10004)>\n",
      "<Thread(x, started 2916)>\n",
      "<Thread(t, started 12532)>\n"
     ]
    },
    {
     "name": "stderr",
     "output_type": "stream",
     "text": [
      "Exception in thread .:\n",
      "Traceback (most recent call last):\n",
      "  File \"c:\\Users\\dottz\\AppData\\Local\\Programs\\Python\\Python310\\lib\\threading.py\", line 1009, in _bootstrap_inner\n",
      "Exception in thread x:\n",
      "Traceback (most recent call last):\n",
      "  File \"c:\\Users\\dottz\\AppData\\Local\\Programs\\Python\\Python310\\lib\\threading.py\", line 1009, in _bootstrap_inner\n",
      "Exception in thread t:\n",
      "Traceback (most recent call last):\n",
      "  File \"c:\\Users\\dottz\\AppData\\Local\\Programs\\Python\\Python310\\lib\\threading.py\", line 1009, in _bootstrap_inner\n",
      "    self.run()\n",
      "  File \"c:\\Users\\dottz\\AppData\\Local\\Programs\\Python\\Python310\\lib\\threading.py\", line 946, in run\n",
      "Exception in thread t:\n",
      "Traceback (most recent call last):\n",
      "  File \"c:\\Users\\dottz\\AppData\\Local\\Programs\\Python\\Python310\\lib\\threading.py\", line 1009, in _bootstrap_inner\n",
      "    self.run()\n",
      "  File \"c:\\Users\\dottz\\AppData\\Local\\Programs\\Python\\Python310\\lib\\threading.py\", line 946, in run\n",
      "    self.run()\n",
      "  File \"c:\\Users\\dottz\\AppData\\Local\\Programs\\Python\\Python310\\lib\\threading.py\", line 946, in run\n",
      "    self._target(*self._args, **self._kwargs)\n",
      "  File \"C:\\Users\\dottz\\AppData\\Local\\Temp\\ipykernel_6548\\1118211071.py\", line 10, in read_and_write_file\n",
      "    self.run()\n",
      "  File \"c:\\Users\\dottz\\AppData\\Local\\Programs\\Python\\Python310\\lib\\threading.py\", line 946, in run\n",
      "    self._target(*self._args, **self._kwargs)\n",
      "  File \"C:\\Users\\dottz\\AppData\\Local\\Temp\\ipykernel_6548\\1118211071.py\", line 10, in read_and_write_file\n",
      "    self._target(*self._args, **self._kwargs)\n",
      "  File \"C:\\Users\\dottz\\AppData\\Local\\Temp\\ipykernel_6548\\1118211071.py\", line 10, in read_and_write_file\n",
      "    self._target(*self._args, **self._kwargs)\n",
      "  File \"C:\\Users\\dottz\\AppData\\Local\\Temp\\ipykernel_6548\\1118211071.py\", line 10, in read_and_write_file\n",
      "PermissionError: [Errno 13] Permission denied: '.'\n",
      "FileNotFoundError: [Errno 2] No such file or directory: 't'\n",
      "FileNotFoundError: [Errno 2] No such file or directory: 't'\n",
      "FileNotFoundError: [Errno 2] No such file or directory: 'x'\n"
     ]
    }
   ],
   "source": [
    "import threading\n",
    "\n",
    "use_thread = True\n",
    "\n",
    "def read_and_write_file(data_part):\n",
    "    if use_thread:\n",
    "        print(thread)\n",
    "\n",
    "    with threading.Lock() as lock:\n",
    "        with open(\"data_all.txt\", \"a\") as out, open(data_part) as in_:\n",
    "            out.writelines(in_)\n",
    "\n",
    "if __name__ == \"__main__\":\n",
    "    file_names = (\".txt\")\n",
    "    if use_thread:\n",
    "        for file_name in file_names:\n",
    "            thread = threading.Thread(target= read_and_write_file, args=(file_name), name= file_name)\n",
    "            thread.start()\n",
    "    else:\n",
    "        for file_name in file_names:\n",
    "            read_and_write_file(file_name)"
   ]
  },
  {
   "cell_type": "markdown",
   "metadata": {},
   "source": [
    "### Exercise 2\n",
    "Scrap all the web pages in the `urls` list and display the links. 1 thread per link. "
   ]
  },
  {
   "cell_type": "code",
   "execution_count": 11,
   "metadata": {},
   "outputs": [],
   "source": [
    "urls = [\n",
    "    \"http://www.python.org\",\n",
    "    \"http://www.python.org/about/\",\n",
    "    \"http://www.onlamp.com/pub/a/python/2003/04/17/metaclasses.html\",\n",
    "    \"http://www.python.org/doc/\",\n",
    "    \"http://www.python.org/download/\",\n",
    "    \"http://www.python.org/getit/\",\n",
    "    \"http://www.python.org/community/\",\n",
    "    \"https://wiki.python.org/moin/\",\n",
    "]"
   ]
  },
  {
   "cell_type": "code",
   "execution_count": 15,
   "metadata": {},
   "outputs": [
    {
     "ename": "URLError",
     "evalue": "<urlopen error unknown url type: ['http>",
     "output_type": "error",
     "traceback": [
      "\u001b[1;31m---------------------------------------------------------------------------\u001b[0m",
      "\u001b[1;31mURLError\u001b[0m                                  Traceback (most recent call last)",
      "\u001b[1;32mc:\\Theano4\\ANT-Theano-4\\ANT-Theano-4\\content\\2.python\\2.python_advanced\\06.Concurrency\\drills_concurrency.ipynb Cell 6'\u001b[0m in \u001b[0;36m<cell line: 5>\u001b[1;34m()\u001b[0m\n\u001b[0;32m      <a href='vscode-notebook-cell:/c%3A/Theano4/ANT-Theano-4/ANT-Theano-4/content/2.python/2.python_advanced/06.Concurrency/drills_concurrency.ipynb#ch0000005?line=2'>3</a>\u001b[0m \u001b[39mimport\u001b[39;00m \u001b[39mre\u001b[39;00m\n\u001b[0;32m      <a href='vscode-notebook-cell:/c%3A/Theano4/ANT-Theano-4/ANT-Theano-4/content/2.python/2.python_advanced/06.Concurrency/drills_concurrency.ipynb#ch0000005?line=3'>4</a>\u001b[0m req \u001b[39m=\u001b[39m Request(urls)\n\u001b[1;32m----> <a href='vscode-notebook-cell:/c%3A/Theano4/ANT-Theano-4/ANT-Theano-4/content/2.python/2.python_advanced/06.Concurrency/drills_concurrency.ipynb#ch0000005?line=4'>5</a>\u001b[0m html_page \u001b[39m=\u001b[39m urlopen(req)\n\u001b[0;32m      <a href='vscode-notebook-cell:/c%3A/Theano4/ANT-Theano-4/ANT-Theano-4/content/2.python/2.python_advanced/06.Concurrency/drills_concurrency.ipynb#ch0000005?line=5'>6</a>\u001b[0m soup \u001b[39m=\u001b[39m BeautifulSoup(html_page, \u001b[39m\"\u001b[39m\u001b[39mlxml\u001b[39m\u001b[39m\"\u001b[39m)\n\u001b[0;32m      <a href='vscode-notebook-cell:/c%3A/Theano4/ANT-Theano-4/ANT-Theano-4/content/2.python/2.python_advanced/06.Concurrency/drills_concurrency.ipynb#ch0000005?line=7'>8</a>\u001b[0m links \u001b[39m=\u001b[39m []\n",
      "File \u001b[1;32mc:\\Users\\dottz\\AppData\\Local\\Programs\\Python\\Python310\\lib\\urllib\\request.py:216\u001b[0m, in \u001b[0;36murlopen\u001b[1;34m(url, data, timeout, cafile, capath, cadefault, context)\u001b[0m\n\u001b[0;32m    <a href='file:///c%3A/Users/dottz/AppData/Local/Programs/Python/Python310/lib/urllib/request.py?line=213'>214</a>\u001b[0m \u001b[39melse\u001b[39;00m:\n\u001b[0;32m    <a href='file:///c%3A/Users/dottz/AppData/Local/Programs/Python/Python310/lib/urllib/request.py?line=214'>215</a>\u001b[0m     opener \u001b[39m=\u001b[39m _opener\n\u001b[1;32m--> <a href='file:///c%3A/Users/dottz/AppData/Local/Programs/Python/Python310/lib/urllib/request.py?line=215'>216</a>\u001b[0m \u001b[39mreturn\u001b[39;00m opener\u001b[39m.\u001b[39;49mopen(url, data, timeout)\n",
      "File \u001b[1;32mc:\\Users\\dottz\\AppData\\Local\\Programs\\Python\\Python310\\lib\\urllib\\request.py:519\u001b[0m, in \u001b[0;36mOpenerDirector.open\u001b[1;34m(self, fullurl, data, timeout)\u001b[0m\n\u001b[0;32m    <a href='file:///c%3A/Users/dottz/AppData/Local/Programs/Python/Python310/lib/urllib/request.py?line=515'>516</a>\u001b[0m     req \u001b[39m=\u001b[39m meth(req)\n\u001b[0;32m    <a href='file:///c%3A/Users/dottz/AppData/Local/Programs/Python/Python310/lib/urllib/request.py?line=517'>518</a>\u001b[0m sys\u001b[39m.\u001b[39maudit(\u001b[39m'\u001b[39m\u001b[39murllib.Request\u001b[39m\u001b[39m'\u001b[39m, req\u001b[39m.\u001b[39mfull_url, req\u001b[39m.\u001b[39mdata, req\u001b[39m.\u001b[39mheaders, req\u001b[39m.\u001b[39mget_method())\n\u001b[1;32m--> <a href='file:///c%3A/Users/dottz/AppData/Local/Programs/Python/Python310/lib/urllib/request.py?line=518'>519</a>\u001b[0m response \u001b[39m=\u001b[39m \u001b[39mself\u001b[39;49m\u001b[39m.\u001b[39;49m_open(req, data)\n\u001b[0;32m    <a href='file:///c%3A/Users/dottz/AppData/Local/Programs/Python/Python310/lib/urllib/request.py?line=520'>521</a>\u001b[0m \u001b[39m# post-process response\u001b[39;00m\n\u001b[0;32m    <a href='file:///c%3A/Users/dottz/AppData/Local/Programs/Python/Python310/lib/urllib/request.py?line=521'>522</a>\u001b[0m meth_name \u001b[39m=\u001b[39m protocol\u001b[39m+\u001b[39m\u001b[39m\"\u001b[39m\u001b[39m_response\u001b[39m\u001b[39m\"\u001b[39m\n",
      "File \u001b[1;32mc:\\Users\\dottz\\AppData\\Local\\Programs\\Python\\Python310\\lib\\urllib\\request.py:541\u001b[0m, in \u001b[0;36mOpenerDirector._open\u001b[1;34m(self, req, data)\u001b[0m\n\u001b[0;32m    <a href='file:///c%3A/Users/dottz/AppData/Local/Programs/Python/Python310/lib/urllib/request.py?line=537'>538</a>\u001b[0m \u001b[39mif\u001b[39;00m result:\n\u001b[0;32m    <a href='file:///c%3A/Users/dottz/AppData/Local/Programs/Python/Python310/lib/urllib/request.py?line=538'>539</a>\u001b[0m     \u001b[39mreturn\u001b[39;00m result\n\u001b[1;32m--> <a href='file:///c%3A/Users/dottz/AppData/Local/Programs/Python/Python310/lib/urllib/request.py?line=540'>541</a>\u001b[0m \u001b[39mreturn\u001b[39;00m \u001b[39mself\u001b[39;49m\u001b[39m.\u001b[39;49m_call_chain(\u001b[39mself\u001b[39;49m\u001b[39m.\u001b[39;49mhandle_open, \u001b[39m'\u001b[39;49m\u001b[39munknown\u001b[39;49m\u001b[39m'\u001b[39;49m,\n\u001b[0;32m    <a href='file:///c%3A/Users/dottz/AppData/Local/Programs/Python/Python310/lib/urllib/request.py?line=541'>542</a>\u001b[0m                         \u001b[39m'\u001b[39;49m\u001b[39munknown_open\u001b[39;49m\u001b[39m'\u001b[39;49m, req)\n",
      "File \u001b[1;32mc:\\Users\\dottz\\AppData\\Local\\Programs\\Python\\Python310\\lib\\urllib\\request.py:496\u001b[0m, in \u001b[0;36mOpenerDirector._call_chain\u001b[1;34m(self, chain, kind, meth_name, *args)\u001b[0m\n\u001b[0;32m    <a href='file:///c%3A/Users/dottz/AppData/Local/Programs/Python/Python310/lib/urllib/request.py?line=493'>494</a>\u001b[0m \u001b[39mfor\u001b[39;00m handler \u001b[39min\u001b[39;00m handlers:\n\u001b[0;32m    <a href='file:///c%3A/Users/dottz/AppData/Local/Programs/Python/Python310/lib/urllib/request.py?line=494'>495</a>\u001b[0m     func \u001b[39m=\u001b[39m \u001b[39mgetattr\u001b[39m(handler, meth_name)\n\u001b[1;32m--> <a href='file:///c%3A/Users/dottz/AppData/Local/Programs/Python/Python310/lib/urllib/request.py?line=495'>496</a>\u001b[0m     result \u001b[39m=\u001b[39m func(\u001b[39m*\u001b[39;49margs)\n\u001b[0;32m    <a href='file:///c%3A/Users/dottz/AppData/Local/Programs/Python/Python310/lib/urllib/request.py?line=496'>497</a>\u001b[0m     \u001b[39mif\u001b[39;00m result \u001b[39mis\u001b[39;00m \u001b[39mnot\u001b[39;00m \u001b[39mNone\u001b[39;00m:\n\u001b[0;32m    <a href='file:///c%3A/Users/dottz/AppData/Local/Programs/Python/Python310/lib/urllib/request.py?line=497'>498</a>\u001b[0m         \u001b[39mreturn\u001b[39;00m result\n",
      "File \u001b[1;32mc:\\Users\\dottz\\AppData\\Local\\Programs\\Python\\Python310\\lib\\urllib\\request.py:1419\u001b[0m, in \u001b[0;36mUnknownHandler.unknown_open\u001b[1;34m(self, req)\u001b[0m\n\u001b[0;32m   <a href='file:///c%3A/Users/dottz/AppData/Local/Programs/Python/Python310/lib/urllib/request.py?line=1416'>1417</a>\u001b[0m \u001b[39mdef\u001b[39;00m \u001b[39munknown_open\u001b[39m(\u001b[39mself\u001b[39m, req):\n\u001b[0;32m   <a href='file:///c%3A/Users/dottz/AppData/Local/Programs/Python/Python310/lib/urllib/request.py?line=1417'>1418</a>\u001b[0m     \u001b[39mtype\u001b[39m \u001b[39m=\u001b[39m req\u001b[39m.\u001b[39mtype\n\u001b[1;32m-> <a href='file:///c%3A/Users/dottz/AppData/Local/Programs/Python/Python310/lib/urllib/request.py?line=1418'>1419</a>\u001b[0m     \u001b[39mraise\u001b[39;00m URLError(\u001b[39m'\u001b[39m\u001b[39munknown url type: \u001b[39m\u001b[39m%s\u001b[39;00m\u001b[39m'\u001b[39m \u001b[39m%\u001b[39m \u001b[39mtype\u001b[39m)\n",
      "\u001b[1;31mURLError\u001b[0m: <urlopen error unknown url type: ['http>"
     ]
    }
   ],
   "source": [
    "from bs4 import BeautifulSoup\n",
    "from urllib.request import Request, urlopen\n",
    "import re\n",
    "req = Request(urls)\n",
    "html_page = urlopen(req)\n",
    "soup = BeautifulSoup(html_page, \"lxml\")\n",
    "\n",
    "links = []\n",
    "for link in soup.findAll(\"a\"):\n",
    "    links.append(link.get(\"href\"))\n",
    "\n",
    "print(links)"
   ]
  }
 ],
 "metadata": {
  "file_extension": ".py",
  "interpreter": {
   "hash": "77b488172f6395ed7ed4be6427d3801d94de35114cde1c952c68f4bf0e7fa312"
  },
  "kernelspec": {
   "display_name": "Python 3.10.4 64-bit",
   "language": "python",
   "name": "python3"
  },
  "language_info": {
   "codemirror_mode": {
    "name": "ipython",
    "version": 3
   },
   "file_extension": ".py",
   "mimetype": "text/x-python",
   "name": "python",
   "nbconvert_exporter": "python",
   "pygments_lexer": "ipython3",
   "version": "3.10.4"
  },
  "mimetype": "text/x-python",
  "name": "python",
  "npconvert_exporter": "python",
  "pygments_lexer": "ipython3",
  "version": 3
 },
 "nbformat": 4,
 "nbformat_minor": 2
}
