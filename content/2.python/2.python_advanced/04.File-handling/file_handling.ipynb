{
 "cells": [
  {
   "cell_type": "markdown",
   "metadata": {},
   "source": [
    "# Read and write files"
   ]
  },
  {
   "cell_type": "markdown",
   "metadata": {},
   "source": [
    "We have made good progress and now we can get down to the more serious task of manipulating files. This is one of the very important points concerning this training. \n",
    "\n",
    "\n",
    "N.B: Most of the files in `./data/` are files that we will use to understand how file opening works. They don't have a special purpose other than that. "
   ]
  },
  {
   "cell_type": "markdown",
   "metadata": {},
   "source": [
    "To open/edit a file in python we use the `open()` function.\n",
    "\n",
    "This function takes as first parameter the path of the file (*relative* or *absolute*) and as second parameter the type of opening, i.e. reading or writing mode.\n",
    "\n",
    "*A relative path in computing is a path that takes into account the current location.*\n",
    "The path is **relative** to where it is called from.\n",
    "\n",
    "*An absolute path is a complete path that can be read regardless of the reading location.*\n",
    "\n"
   ]
  },
  {
   "cell_type": "code",
   "execution_count": 41,
   "metadata": {},
   "outputs": [],
   "source": [
    "filename = \"./data/data.txt\"\n",
    "my_file = open(filename, \"r\")  # r for \"read\""
   ]
  },
  {
   "cell_type": "markdown",
   "metadata": {},
   "source": [
    "- `\"r\"`, for a read opening (READ).\n",
    "\n",
    "- `\"w\"`, for a write opening (WRITE), each time the file is opened, the content of the file is overwritten. If the file does not exist, Python creates it. \n",
    "\n",
    "    *The Python docs say that `w+` will \"overwrite the existing file if the file exists\". So as soon as you open a file with `w+`, it is now an empty file: it contains 0 bytes. If it used to contain data, that data has been truncated — cut off and thrown away — and now the file size is 0 bytes, so you can't read any of the data that existed before you opened the file with `w+`. If you actually wanted to read the previous data and add to it, you should use `r+` instead of `w+`* [[Source]](https://stackoverflow.com/questions/16208206/confused-by-python-file-mode-w#comment83227862_16208298)\n",
    "    \n",
    "    \n",
    "\n",
    "- `\"a\"`, for an opening in add mode at the end of the file (APPEND). If the file does not exist, Python creates it.\n",
    "\n",
    "- `\"x\"`, creates a new file and opens it for writing\n",
    "\n",
    "You can also append the character `+` and `b` to nearly all of the above commands. [[More info here]](https://stackabuse.com/file-handling-in-python/)"
   ]
  },
  {
   "cell_type": "markdown",
   "metadata": {},
   "source": [
    "Like any open element, it must be closed again once the instructions have been completed. To do this, we use the `close()` method."
   ]
  },
  {
   "cell_type": "code",
   "execution_count": 38,
   "metadata": {},
   "outputs": [],
   "source": [
    "my_file.close()"
   ]
  },
  {
   "cell_type": "code",
   "execution_count": 42,
   "metadata": {},
   "outputs": [
    {
     "name": "stdout",
     "output_type": "stream",
     "text": [
      "Hi everyone, I'm adding sentences to the file !\n"
     ]
    }
   ],
   "source": [
    "# Let's find out what's going on there\n",
    "my_file = open(filename, \"r\")\n",
    "print(my_file.read())\n",
    "my_file.close()"
   ]
  },
  {
   "cell_type": "markdown",
   "metadata": {},
   "source": [
    "Another possibility of opening without closing. That's a **best practice** and you should use that as much as you can."
   ]
  },
  {
   "cell_type": "code",
   "execution_count": 43,
   "metadata": {},
   "outputs": [
    {
     "name": "stdout",
     "output_type": "stream",
     "text": [
      "Hi everyone, I'm adding sentences to the file !\n"
     ]
    }
   ],
   "source": [
    "with open(filename, \"r\") as my_file:\n",
    "    print(my_file.read())"
   ]
  },
  {
   "cell_type": "markdown",
   "metadata": {},
   "source": [
    "**Can you put the contents of this file in the form of a list in which each element is a sentence ?**\n",
    "*(Use `.split()` for example...)*"
   ]
  },
  {
   "cell_type": "code",
   "execution_count": 47,
   "metadata": {},
   "outputs": [
    {
     "ename": "TypeError",
     "evalue": "'_io.TextIOWrapper' object is not callable",
     "output_type": "error",
     "traceback": [
      "\u001b[1;31m---------------------------------------------------------------------------\u001b[0m",
      "\u001b[1;31mTypeError\u001b[0m                                 Traceback (most recent call last)",
      "\u001b[1;32mc:\\Theano4\\ANT-Theano-4\\ANT-Theano-4\\content\\2.python\\2.python_advanced\\04.File-handling\\file_handling.ipynb Cell 12'\u001b[0m in \u001b[0;36m<cell line: 1>\u001b[1;34m()\u001b[0m\n\u001b[1;32m----> <a href='vscode-notebook-cell:/c%3A/Theano4/ANT-Theano-4/ANT-Theano-4/content/2.python/2.python_advanced/04.File-handling/file_handling.ipynb#ch0000011?line=0'>1</a>\u001b[0m x \u001b[39m=\u001b[39m my_file()\n",
      "\u001b[1;31mTypeError\u001b[0m: '_io.TextIOWrapper' object is not callable"
     ]
    }
   ],
   "source": [
    "x = my_file()"
   ]
  },
  {
   "cell_type": "markdown",
   "metadata": {},
   "source": [
    "To write in a file, just open a file (existing or not), write in it and close it. We open it in mode `\"w\"` so that the previous data is deleted and new data can be added."
   ]
  },
  {
   "cell_type": "code",
   "execution_count": null,
   "metadata": {},
   "outputs": [],
   "source": [
    "file = open(filename, \"w\")\n",
    "file.write(\"Hi everyone, I'm adding sentences to the file !\")\n",
    "file.close()"
   ]
  },
  {
   "cell_type": "markdown",
   "metadata": {},
   "source": [
    "Can you take the content of the `data.txt` file from the `.data/` directory, capitalize all the words and write them in the file that you created just before, after the sentences you added?\n"
   ]
  },
  {
   "cell_type": "code",
   "execution_count": null,
   "metadata": {},
   "outputs": [],
   "source": [
    "# It's up to you to write the end\n",
    "array = []\n",
    "with open(filename, \"r+\") as input_file:\n",
    "    pass  # Add your code"
   ]
  },
  {
   "cell_type": "markdown",
   "metadata": {},
   "source": [
    "## Management of directory paths..."
   ]
  },
  {
   "cell_type": "markdown",
   "metadata": {},
   "source": [
    "The `os` module is a library that provides a portable way of using operating system dependent functionality.\n",
    "In this chapter, we are interested in using its powerful file path handling capabilities using `os.path`."
   ]
  },
  {
   "cell_type": "code",
   "execution_count": null,
   "metadata": {},
   "outputs": [],
   "source": [
    "import os"
   ]
  },
  {
   "cell_type": "markdown",
   "metadata": {},
   "source": [
    "Each file or folder is associated with a kind of address that makes it easy to find it without errors. It is not possible to have a file with an identical name as another inside the same folder (except if the file extension is different).\n",
    "\n",
    "As said before, there are two kinds of paths: the absolute path from the root of your file system and the relative path from the folder being read."
   ]
  },
  {
   "cell_type": "markdown",
   "metadata": {},
   "source": [
    "By using `help` function, we can see the available methods."
   ]
  },
  {
   "cell_type": "code",
   "execution_count": null,
   "metadata": {},
   "outputs": [],
   "source": [
    "help(os.path)"
   ]
  },
  {
   "cell_type": "markdown",
   "metadata": {},
   "source": [
    "To know your current absolute path, use `abspath('')`"
   ]
  },
  {
   "cell_type": "code",
   "execution_count": null,
   "metadata": {},
   "outputs": [],
   "source": [
    "# In Python a path is a string, so there are methods to manipulate it.\n",
    "path = os.path.abspath(\"\")\n",
    "print(path)\n",
    "print(type(path))"
   ]
  },
  {
   "cell_type": "markdown",
   "metadata": {},
   "source": [
    " To know the part of the path that consists of directories, use `dirname(path)`."
   ]
  },
  {
   "cell_type": "code",
   "execution_count": null,
   "metadata": {},
   "outputs": [],
   "source": [
    "os.path.dirname(path)"
   ]
  },
  {
   "cell_type": "markdown",
   "metadata": {},
   "source": [
    "To only get the filename, use `basename(path)`."
   ]
  },
  {
   "cell_type": "code",
   "execution_count": null,
   "metadata": {},
   "outputs": [],
   "source": [
    "os.path.basename(path)"
   ]
  },
  {
   "cell_type": "markdown",
   "metadata": {},
   "source": [
    "To add a directory, let's say `\"text\"` to the path, we use `join()`. \n",
    "\n",
    "The cool thing is that it is compatible across operating systems. Meaning that on Windows it will automatically add `\\` between the arguments of `os.path.join`, and on Linux it will add `/`. The same code thus works on every operating system!"
   ]
  },
  {
   "cell_type": "code",
   "execution_count": null,
   "metadata": {},
   "outputs": [],
   "source": [
    "rep_text = os.path.join(path, \"text\")\n",
    "print(rep_text)"
   ]
  },
  {
   "cell_type": "markdown",
   "metadata": {},
   "source": [
    "To retrieve all the elements of a folder as a list, you can use the `listdir()` method."
   ]
  },
  {
   "cell_type": "code",
   "execution_count": null,
   "metadata": {},
   "outputs": [],
   "source": [
    "# Items are returned as a list and includes folders and hidden files.\n",
    "os.listdir(\"../\")"
   ]
  },
  {
   "cell_type": "markdown",
   "metadata": {},
   "source": [
    "### How to display all the elements of a folder as well as its child folders? \n",
    "\n",
    "With the `walk()` function:\n",
    "\n",
    "```\n",
    "walk(top, topdown=True, onerror=None, followlinks=False)\n",
    "```\n"
   ]
  },
  {
   "cell_type": "code",
   "execution_count": 68,
   "metadata": {},
   "outputs": [
    {
     "name": "stdout",
     "output_type": "stream",
     "text": [
      "c:\\Theano4\\ANT-Theano-4\\ANT-Theano-4\\content\\2.python\\2.python_advanced\\04.File-handling\n",
      "file_handling.ipynb\n",
      "comptagevelo2017.csv\n",
      "comptagevelo2017.xlsx\n",
      "data.txt\n",
      "discours_politicien.zip\n",
      "final.txt\n",
      "L'équipe,du sport en continu..html\n",
      "mail.txt\n",
      "VOEUX01.txt\n",
      "VOEUX05.txt\n",
      "VOEUX06.txt\n",
      "VOEUX07.txt\n",
      "VOEUX08.txt\n",
      "VOEUX09.txt\n",
      "VOEUX74.txt\n",
      "VOEUX75.txt\n",
      "VOEUX79.txt\n",
      "VOEUX83.txt\n",
      "VOEUX87.txt\n",
      "VOEUX89.txt\n",
      "VOEUX90.txt\n",
      "VOEUX94.txt\n",
      "weather_2012.csv\n",
      "weather_2017.csv\n",
      "write.txt\n",
      "0a315.jpg\n",
      "0CA20181029124202ADs201810291242024F98d8q4aBxcs.js\n",
      "0d3f9.png\n",
      "0f245.jpg\n",
      "110.png\n",
      "125278988146629\n",
      "140(1).jpg\n",
      "140(10).jpg\n",
      "140(11).jpg\n",
      "140(2).jpg\n",
      "140(3).jpg\n",
      "140(4).jpg\n",
      "140(5).jpg\n",
      "140(6).jpg\n",
      "140(7).jpg\n",
      "140(8).jpg\n",
      "140(9).jpg\n",
      "140.jpg\n",
      "1ce06.jpg\n",
      "1x1.a\n",
      "201b8.jpg\n",
      "20d4b.jpg\n",
      "226ee.jpg\n",
      "2402-245398-48616-4(1).gif\n",
      "2402-245398-48616-4.gif\n",
      "275(1).jpg\n",
      "275(2).jpg\n",
      "275(3).jpg\n",
      "275(4).jpg\n",
      "275(5).jpg\n",
      "275.jpg\n",
      "30b06.jpg\n",
      "3b4c8.jpg\n",
      "3c6f0.jpg\n",
      "44ddc.jpg\n",
      "49d3b.jpg\n",
      "4f412.jpg\n",
      "6636b.jpg\n",
      "67b5b.jpg\n",
      "6f4bb.jpg\n",
      "6uQTKQJz(1).html\n",
      "6uQTKQJz.html\n",
      "800(1).jpg\n",
      "800.jpg\n",
      "ads-cch-20181026165210.js\n",
      "f(10).txt\n",
      "f(2).txt\n",
      "f(3).txt\n",
      "f(4).txt\n",
      "f(5).txt\n",
      "f(6).txt\n",
      "f(7).txt\n",
      "f(8).txt\n",
      "f(9).txt\n",
      "f.txt\n",
      "f21a9.jpg\n",
      "f3de7.jpg\n",
      "fb0a7.jpg\n",
      "fbevents.js\n",
      "gather_id\n",
      "gather_id(1)\n",
      "gen_204(1).gif\n",
      "gen_204.gif\n",
      "get\n",
      "get(1)\n",
      "get(2)\n",
      "getids\n",
      "gpt.js\n",
      "guid.html\n",
      "html_inpage_rendering_lib_200_243.js\n",
      "hudactive.html\n",
      "styles.css\n",
      "SVG-EFR(1).svg\n",
      "SVG-EFR.svg\n",
      "tag.min.js\n",
      "V6zvOIoD.js\n",
      "wamfactory_dpm.lequipe.min.js\n",
      "widget.css\n",
      "widget.js\n",
      "widgetGlobalEvent\n",
      "widgetGlobalEvent(1)\n",
      "widgetGlobalEvent(2)\n",
      "wonderpush-loader.min.js\n",
      "wonderpush.min.html\n",
      "wonderpush.min.js\n"
     ]
    }
   ],
   "source": [
    "folder_path = os.path.abspath(\"./\")\n",
    "print(folder_path)\n",
    "\n",
    "for path, dirs, files in os.walk(folder_path):\n",
    "    for filename in files:\n",
    "        print(filename)"
   ]
  },
  {
   "cell_type": "markdown",
   "metadata": {},
   "source": [
    "Put all the **`.txt` files** from the `data/` directory into a variable.\n",
    "    Then, copy the content of all the files from this variable into a file in `data/` that you will name `final.txt`.\n"
   ]
  },
  {
   "cell_type": "code",
   "execution_count": 76,
   "metadata": {},
   "outputs": [],
   "source": [
    "target =  os.path.abspath(\"data/\")\n",
    "file =  open(os.path.join(target, \"final.txt\"), \"w\")\n",
    "for x in os.listdir(target):\n",
    "    if x.endswith(\".txt\"):\n",
    "        file.write(x+ \"\\n\")\n",
    "\n",
    "file.close()\n"
   ]
  },
  {
   "cell_type": "markdown",
   "metadata": {},
   "source": [
    "New task. Using a loop, can you open all the files from your `data/` directory and save all their contents in a variable ?"
   ]
  },
  {
   "cell_type": "code",
   "execution_count": 8,
   "metadata": {},
   "outputs": [
    {
     "name": "stdout",
     "output_type": "stream",
     "text": [
      "filename: comptagevelo2017.csv\n",
      "filename: comptagevelo2017.xlsx\n",
      "filename: data.txt\n",
      "filename: discours_politicien.zip\n"
     ]
    },
    {
     "ename": "FileNotFoundError",
     "evalue": "[Errno 2] No such file or directory: 'VOEUX01.txt'",
     "output_type": "error",
     "traceback": [
      "\u001b[1;31m---------------------------------------------------------------------------\u001b[0m",
      "\u001b[1;31mFileNotFoundError\u001b[0m                         Traceback (most recent call last)",
      "\u001b[1;32mc:\\Theano4\\ANT-Theano-4\\ANT-Theano-4\\content\\2.python\\2.python_advanced\\04.File-handling\\file_handling.ipynb Cell 38'\u001b[0m in \u001b[0;36m<cell line: 13>\u001b[1;34m()\u001b[0m\n\u001b[0;32m     <a href='vscode-notebook-cell:/c%3A/Theano4/ANT-Theano-4/ANT-Theano-4/content/2.python/2.python_advanced/04.File-handling/file_handling.ipynb#ch0000037?line=20'>21</a>\u001b[0m     listing \u001b[39m=\u001b[39m handle\u001b[39m.\u001b[39mnamelist()\n\u001b[0;32m     <a href='vscode-notebook-cell:/c%3A/Theano4/ANT-Theano-4/ANT-Theano-4/content/2.python/2.python_advanced/04.File-handling/file_handling.ipynb#ch0000037?line=22'>23</a>\u001b[0m     \u001b[39mfor\u001b[39;00m x \u001b[39min\u001b[39;00m listing:\n\u001b[1;32m---> <a href='vscode-notebook-cell:/c%3A/Theano4/ANT-Theano-4/ANT-Theano-4/content/2.python/2.python_advanced/04.File-handling/file_handling.ipynb#ch0000037?line=23'>24</a>\u001b[0m         \u001b[39mwith\u001b[39;00m \u001b[39mopen\u001b[39;49m(\u001b[39m\"\u001b[39;49m\u001b[39m{}\u001b[39;49;00m\u001b[39m\"\u001b[39;49m\u001b[39m.\u001b[39;49mformat(x),\u001b[39m\"\u001b[39;49m\u001b[39mr\u001b[39;49m\u001b[39m\"\u001b[39;49m, encoding\u001b[39m=\u001b[39;49m\u001b[39m\"\u001b[39;49m\u001b[39mutf8\u001b[39;49m\u001b[39m\"\u001b[39;49m, errors\u001b[39m=\u001b[39;49m\u001b[39m\"\u001b[39;49m\u001b[39mignore\u001b[39;49m\u001b[39m\"\u001b[39;49m) \u001b[39mas\u001b[39;00m input_file:\n\u001b[0;32m     <a href='vscode-notebook-cell:/c%3A/Theano4/ANT-Theano-4/ANT-Theano-4/content/2.python/2.python_advanced/04.File-handling/file_handling.ipynb#ch0000037?line=24'>25</a>\u001b[0m             output \u001b[39m+\u001b[39m\u001b[39m=\u001b[39m input_file\u001b[39m.\u001b[39mread()\n\u001b[0;32m     <a href='vscode-notebook-cell:/c%3A/Theano4/ANT-Theano-4/ANT-Theano-4/content/2.python/2.python_advanced/04.File-handling/file_handling.ipynb#ch0000037?line=26'>27</a>\u001b[0m \u001b[39melse\u001b[39;00m:\n",
      "\u001b[1;31mFileNotFoundError\u001b[0m: [Errno 2] No such file or directory: 'VOEUX01.txt'"
     ]
    }
   ],
   "source": [
    "import zipfile\n",
    "from zipfile import ZipFile\n",
    "\n",
    "output=\" \"\n",
    "sub_dir = []\n",
    "for path, dirs, files in os.walk(\"./data\", topdown=True):\n",
    "    for dir in dirs:\n",
    "        sub_dir.append(dir)\n",
    "        for file in os.listdir(\"./data/{}\".format(dir)):\n",
    "            with open(\"./data/{}/{}\".format(dir,file), \"r\", encoding=\"utf8\", errors=\"ignore\") as input_file:\n",
    "                output += input_file.read()\n",
    "\n",
    "for filename in os.listdir(\"./data\"):\n",
    "    print(\"filename:\", filename)\n",
    "    if filename in sub_dir:\n",
    "        continue\n",
    "\n",
    "    elif filename.endswith(\".zip\"):\n",
    "        target = \"./data/{}\".format(filename)\n",
    "        handle = zipfile.ZipFile(target)\n",
    "        listing = handle.namelist()\n",
    "\n",
    "        for x in listing:\n",
    "            with open(\"{}\".format(x),\"r\", encoding=\"utf8\", errors=\"ignore\") as input_file:\n",
    "                output += input_file.read()\n",
    "\n",
    "    else:\n",
    "        with open(\"./data/{}\".format(filename), \"r\", encoding=\"utf8\", errors=\"ignore\") as input_file:\n",
    "            output += input_file.read()"
   ]
  },
  {
   "cell_type": "markdown",
   "metadata": {},
   "source": [
    "Finally, save this concatenated information (assemblies) in a new file."
   ]
  },
  {
   "cell_type": "code",
   "execution_count": 74,
   "metadata": {},
   "outputs": [
    {
     "ename": "FileNotFoundError",
     "evalue": "[Errno 2] No such file or directory: 'comptagevelo2017.xlsx\\\\concatenated'",
     "output_type": "error",
     "traceback": [
      "\u001b[1;31m---------------------------------------------------------------------------\u001b[0m",
      "\u001b[1;31mFileNotFoundError\u001b[0m                         Traceback (most recent call last)",
      "Input \u001b[1;32mIn [74]\u001b[0m, in \u001b[0;36m<cell line: 2>\u001b[1;34m()\u001b[0m\n\u001b[0;32m      1\u001b[0m target \u001b[39m=\u001b[39m  filename\n\u001b[1;32m----> 2\u001b[0m file \u001b[39m=\u001b[39m  \u001b[39mopen\u001b[39;49m(os\u001b[39m.\u001b[39;49mpath\u001b[39m.\u001b[39;49mjoin(target, \u001b[39m\"\u001b[39;49m\u001b[39mconcatenated\u001b[39;49m\u001b[39m\"\u001b[39;49m), \u001b[39m\"\u001b[39;49m\u001b[39mw\u001b[39;49m\u001b[39m\"\u001b[39;49m)\n\u001b[0;32m      3\u001b[0m \u001b[39mfor\u001b[39;00m x \u001b[39min\u001b[39;00m os\u001b[39m.\u001b[39mlistdir(target):\n\u001b[0;32m      4\u001b[0m     \u001b[39mif\u001b[39;00m x\u001b[39m.\u001b[39mendswith(\u001b[39m\"\u001b[39m\u001b[39m.txt\u001b[39m\u001b[39m\"\u001b[39m):\n",
      "\u001b[1;31mFileNotFoundError\u001b[0m: [Errno 2] No such file or directory: 'comptagevelo2017.xlsx\\\\concatenated'"
     ]
    }
   ],
   "source": [
    "target =  filename\n",
    "file =  open(os.path.join(target, \"concatenated\"), \"w\")\n",
    "for x in os.listdir(target):\n",
    "    if x.endswith(\".txt\"):\n",
    "        file.write(x+ \"\\n\")\n",
    "\n",
    "file.close()"
   ]
  }
 ],
 "metadata": {
  "interpreter": {
   "hash": "77b488172f6395ed7ed4be6427d3801d94de35114cde1c952c68f4bf0e7fa312"
  },
  "kernelspec": {
   "display_name": "Python 3.10.4 64-bit",
   "language": "python",
   "name": "python3"
  },
  "language_info": {
   "codemirror_mode": {
    "name": "ipython",
    "version": 3
   },
   "file_extension": ".py",
   "mimetype": "text/x-python",
   "name": "python",
   "nbconvert_exporter": "python",
   "pygments_lexer": "ipython3",
   "version": "3.10.4"
  }
 },
 "nbformat": 4,
 "nbformat_minor": 2
}
